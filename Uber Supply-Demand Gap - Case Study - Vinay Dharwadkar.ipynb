{
 "cells": [
  {
   "cell_type": "markdown",
   "metadata": {},
   "source": [
    "## Import important libraries and set default values for plotting"
   ]
  },
  {
   "cell_type": "code",
   "execution_count": 1,
   "metadata": {},
   "outputs": [],
   "source": [
    "# Supress Warnings\n",
    "\n",
    "import warnings\n",
    "warnings.filterwarnings('ignore')"
   ]
  },
  {
   "cell_type": "code",
   "execution_count": 2,
   "metadata": {},
   "outputs": [],
   "source": [
    "# Import the numpy and pandas packages\n",
    "\n",
    "import numpy as np\n",
    "import pandas as pd"
   ]
  },
  {
   "cell_type": "code",
   "execution_count": 3,
   "metadata": {},
   "outputs": [],
   "source": [
    "# Import the matplotlib and seaborn packages\n",
    "import matplotlib.pyplot as plt\n",
    "import seaborn as sns\n",
    "\n",
    "# Set env variable for plotting inline\n",
    "%matplotlib inline\n",
    "\n",
    "# Set a seaborn style of your taste\n",
    "sns.set_style(\"whitegrid\")\n",
    "\n",
    "# Set max_columns parameter to 'None', to show all the columns of the dataframe so that we can scroll across and check values\n",
    "pd.options.display.max_columns = None"
   ]
  },
  {
   "cell_type": "markdown",
   "metadata": {},
   "source": [
    "## 1. Importing and Inspecting the dataframe"
   ]
  },
  {
   "cell_type": "markdown",
   "metadata": {},
   "source": [
    "### 1.1 Import the csv file into pandas dataframe \"Data_Uber\""
   ]
  },
  {
   "cell_type": "code",
   "execution_count": 4,
   "metadata": {},
   "outputs": [],
   "source": [
    "Data_Uber = pd.read_csv(\"Uber Request Data.csv\")"
   ]
  },
  {
   "cell_type": "code",
   "execution_count": 5,
   "metadata": {},
   "outputs": [],
   "source": [
    "# Replace spaces in column-name with underscore for ease of usage -- optional\n",
    "Data_Uber.columns = Data_Uber.columns.str.replace(' ','_')"
   ]
  },
  {
   "cell_type": "markdown",
   "metadata": {},
   "source": [
    "### 1.2 Inspect the dataframe"
   ]
  },
  {
   "cell_type": "code",
   "execution_count": 6,
   "metadata": {},
   "outputs": [
    {
     "name": "stdout",
     "output_type": "stream",
     "text": [
      "<class 'pandas.core.frame.DataFrame'>\n",
      "RangeIndex: 6745 entries, 0 to 6744\n",
      "Data columns (total 6 columns):\n",
      "Request_id           6745 non-null int64\n",
      "Pickup_point         6745 non-null object\n",
      "Driver_id            4095 non-null float64\n",
      "Status               6745 non-null object\n",
      "Request_timestamp    6745 non-null object\n",
      "Drop_timestamp       2831 non-null object\n",
      "dtypes: float64(1), int64(1), object(4)\n",
      "memory usage: 316.2+ KB\n"
     ]
    }
   ],
   "source": [
    "# Check inof() to get a feel of the rows and columns of the dataframe\n",
    "Data_Uber.info()"
   ]
  },
  {
   "cell_type": "code",
   "execution_count": 7,
   "metadata": {},
   "outputs": [
    {
     "data": {
      "text/plain": [
       "(6745, 6)"
      ]
     },
     "execution_count": 7,
     "metadata": {},
     "output_type": "execute_result"
    }
   ],
   "source": [
    "# Check the shape attribute to get a count o fthe number of rows and columns\n",
    "Data_Uber.shape"
   ]
  },
  {
   "cell_type": "code",
   "execution_count": 8,
   "metadata": {},
   "outputs": [
    {
     "data": {
      "text/html": [
       "<div>\n",
       "<style scoped>\n",
       "    .dataframe tbody tr th:only-of-type {\n",
       "        vertical-align: middle;\n",
       "    }\n",
       "\n",
       "    .dataframe tbody tr th {\n",
       "        vertical-align: top;\n",
       "    }\n",
       "\n",
       "    .dataframe thead th {\n",
       "        text-align: right;\n",
       "    }\n",
       "</style>\n",
       "<table border=\"1\" class=\"dataframe\">\n",
       "  <thead>\n",
       "    <tr style=\"text-align: right;\">\n",
       "      <th></th>\n",
       "      <th>Request_id</th>\n",
       "      <th>Driver_id</th>\n",
       "    </tr>\n",
       "  </thead>\n",
       "  <tbody>\n",
       "    <tr>\n",
       "      <th>count</th>\n",
       "      <td>6745.000000</td>\n",
       "      <td>4095.000000</td>\n",
       "    </tr>\n",
       "    <tr>\n",
       "      <th>mean</th>\n",
       "      <td>3384.644922</td>\n",
       "      <td>149.501343</td>\n",
       "    </tr>\n",
       "    <tr>\n",
       "      <th>std</th>\n",
       "      <td>1955.099667</td>\n",
       "      <td>86.051994</td>\n",
       "    </tr>\n",
       "    <tr>\n",
       "      <th>min</th>\n",
       "      <td>1.000000</td>\n",
       "      <td>1.000000</td>\n",
       "    </tr>\n",
       "    <tr>\n",
       "      <th>25%</th>\n",
       "      <td>1691.000000</td>\n",
       "      <td>75.000000</td>\n",
       "    </tr>\n",
       "    <tr>\n",
       "      <th>50%</th>\n",
       "      <td>3387.000000</td>\n",
       "      <td>149.000000</td>\n",
       "    </tr>\n",
       "    <tr>\n",
       "      <th>75%</th>\n",
       "      <td>5080.000000</td>\n",
       "      <td>224.000000</td>\n",
       "    </tr>\n",
       "    <tr>\n",
       "      <th>max</th>\n",
       "      <td>6766.000000</td>\n",
       "      <td>300.000000</td>\n",
       "    </tr>\n",
       "  </tbody>\n",
       "</table>\n",
       "</div>"
      ],
      "text/plain": [
       "        Request_id    Driver_id\n",
       "count  6745.000000  4095.000000\n",
       "mean   3384.644922   149.501343\n",
       "std    1955.099667    86.051994\n",
       "min       1.000000     1.000000\n",
       "25%    1691.000000    75.000000\n",
       "50%    3387.000000   149.000000\n",
       "75%    5080.000000   224.000000\n",
       "max    6766.000000   300.000000"
      ]
     },
     "execution_count": 8,
     "metadata": {},
     "output_type": "execute_result"
    }
   ],
   "source": [
    "# Use the describe() function to get the stastical information about the dataframe\n",
    "Data_Uber.describe()"
   ]
  },
  {
   "cell_type": "markdown",
   "metadata": {},
   "source": [
    "The details provided are of not much help since 'Driver_id' and 'Request_id' are both columns containing uniquely identifiable data.\n",
    "\n",
    "The statistical measures on these columns is meaningless. Rest of the columns are presently of type 'Object' (strings)."
   ]
  },
  {
   "cell_type": "code",
   "execution_count": 9,
   "metadata": {},
   "outputs": [
    {
     "data": {
      "text/html": [
       "<div>\n",
       "<style scoped>\n",
       "    .dataframe tbody tr th:only-of-type {\n",
       "        vertical-align: middle;\n",
       "    }\n",
       "\n",
       "    .dataframe tbody tr th {\n",
       "        vertical-align: top;\n",
       "    }\n",
       "\n",
       "    .dataframe thead th {\n",
       "        text-align: right;\n",
       "    }\n",
       "</style>\n",
       "<table border=\"1\" class=\"dataframe\">\n",
       "  <thead>\n",
       "    <tr style=\"text-align: right;\">\n",
       "      <th></th>\n",
       "      <th>Request_id</th>\n",
       "      <th>Pickup_point</th>\n",
       "      <th>Driver_id</th>\n",
       "      <th>Status</th>\n",
       "      <th>Request_timestamp</th>\n",
       "      <th>Drop_timestamp</th>\n",
       "    </tr>\n",
       "  </thead>\n",
       "  <tbody>\n",
       "    <tr>\n",
       "      <th>0</th>\n",
       "      <td>619</td>\n",
       "      <td>Airport</td>\n",
       "      <td>1.0</td>\n",
       "      <td>Trip Completed</td>\n",
       "      <td>11/7/2016 11:51</td>\n",
       "      <td>11/7/2016 13:00</td>\n",
       "    </tr>\n",
       "    <tr>\n",
       "      <th>1</th>\n",
       "      <td>867</td>\n",
       "      <td>Airport</td>\n",
       "      <td>1.0</td>\n",
       "      <td>Trip Completed</td>\n",
       "      <td>11/7/2016 17:57</td>\n",
       "      <td>11/7/2016 18:47</td>\n",
       "    </tr>\n",
       "    <tr>\n",
       "      <th>2</th>\n",
       "      <td>1807</td>\n",
       "      <td>City</td>\n",
       "      <td>1.0</td>\n",
       "      <td>Trip Completed</td>\n",
       "      <td>12/7/2016 9:17</td>\n",
       "      <td>12/7/2016 9:58</td>\n",
       "    </tr>\n",
       "    <tr>\n",
       "      <th>3</th>\n",
       "      <td>2532</td>\n",
       "      <td>Airport</td>\n",
       "      <td>1.0</td>\n",
       "      <td>Trip Completed</td>\n",
       "      <td>12/7/2016 21:08</td>\n",
       "      <td>12/7/2016 22:03</td>\n",
       "    </tr>\n",
       "    <tr>\n",
       "      <th>4</th>\n",
       "      <td>3112</td>\n",
       "      <td>City</td>\n",
       "      <td>1.0</td>\n",
       "      <td>Trip Completed</td>\n",
       "      <td>13-07-2016 08:33:16</td>\n",
       "      <td>13-07-2016 09:25:47</td>\n",
       "    </tr>\n",
       "    <tr>\n",
       "      <th>5</th>\n",
       "      <td>3879</td>\n",
       "      <td>Airport</td>\n",
       "      <td>1.0</td>\n",
       "      <td>Trip Completed</td>\n",
       "      <td>13-07-2016 21:57:28</td>\n",
       "      <td>13-07-2016 22:28:59</td>\n",
       "    </tr>\n",
       "    <tr>\n",
       "      <th>6</th>\n",
       "      <td>4270</td>\n",
       "      <td>Airport</td>\n",
       "      <td>1.0</td>\n",
       "      <td>Trip Completed</td>\n",
       "      <td>14-07-2016 06:15:32</td>\n",
       "      <td>14-07-2016 07:13:15</td>\n",
       "    </tr>\n",
       "    <tr>\n",
       "      <th>7</th>\n",
       "      <td>5510</td>\n",
       "      <td>Airport</td>\n",
       "      <td>1.0</td>\n",
       "      <td>Trip Completed</td>\n",
       "      <td>15-07-2016 05:11:52</td>\n",
       "      <td>15-07-2016 06:07:52</td>\n",
       "    </tr>\n",
       "    <tr>\n",
       "      <th>8</th>\n",
       "      <td>6248</td>\n",
       "      <td>City</td>\n",
       "      <td>1.0</td>\n",
       "      <td>Trip Completed</td>\n",
       "      <td>15-07-2016 17:57:27</td>\n",
       "      <td>15-07-2016 18:50:51</td>\n",
       "    </tr>\n",
       "    <tr>\n",
       "      <th>9</th>\n",
       "      <td>267</td>\n",
       "      <td>City</td>\n",
       "      <td>2.0</td>\n",
       "      <td>Trip Completed</td>\n",
       "      <td>11/7/2016 6:46</td>\n",
       "      <td>11/7/2016 7:25</td>\n",
       "    </tr>\n",
       "  </tbody>\n",
       "</table>\n",
       "</div>"
      ],
      "text/plain": [
       "   Request_id Pickup_point  Driver_id          Status    Request_timestamp  \\\n",
       "0         619      Airport        1.0  Trip Completed      11/7/2016 11:51   \n",
       "1         867      Airport        1.0  Trip Completed      11/7/2016 17:57   \n",
       "2        1807         City        1.0  Trip Completed       12/7/2016 9:17   \n",
       "3        2532      Airport        1.0  Trip Completed      12/7/2016 21:08   \n",
       "4        3112         City        1.0  Trip Completed  13-07-2016 08:33:16   \n",
       "5        3879      Airport        1.0  Trip Completed  13-07-2016 21:57:28   \n",
       "6        4270      Airport        1.0  Trip Completed  14-07-2016 06:15:32   \n",
       "7        5510      Airport        1.0  Trip Completed  15-07-2016 05:11:52   \n",
       "8        6248         City        1.0  Trip Completed  15-07-2016 17:57:27   \n",
       "9         267         City        2.0  Trip Completed       11/7/2016 6:46   \n",
       "\n",
       "        Drop_timestamp  \n",
       "0      11/7/2016 13:00  \n",
       "1      11/7/2016 18:47  \n",
       "2       12/7/2016 9:58  \n",
       "3      12/7/2016 22:03  \n",
       "4  13-07-2016 09:25:47  \n",
       "5  13-07-2016 22:28:59  \n",
       "6  14-07-2016 07:13:15  \n",
       "7  15-07-2016 06:07:52  \n",
       "8  15-07-2016 18:50:51  \n",
       "9       11/7/2016 7:25  "
      ]
     },
     "execution_count": 9,
     "metadata": {},
     "output_type": "execute_result"
    }
   ],
   "source": [
    "# Check the firt 10 rows of the data to geta feel of how the data looks.\n",
    "Data_Uber.head(10)"
   ]
  },
  {
   "cell_type": "code",
   "execution_count": 10,
   "metadata": {},
   "outputs": [
    {
     "name": "stdout",
     "output_type": "stream",
     "text": [
      "Column-wise unique values :\n",
      "Request_id           6745\n",
      "Pickup_point            2\n",
      "Driver_id             300\n",
      "Status                  3\n",
      "Request_timestamp    5618\n",
      "Drop_timestamp       2598\n",
      "dtype: int64\n",
      "\n",
      "\n",
      "Unique values in 'Request_id' column:\n",
      "[ 619  867 1807 ... 6751 6754 6753]\n",
      "\n",
      "Unique values in 'Pickup_point' column:\n",
      "['Airport' 'City']\n",
      "\n",
      "Unique values in 'Driver_id' column:\n",
      "[  1.   2.   3.   4.   5.   6.   7.   8.   9.  10.  11.  12.  13.  14.\n",
      "  15.  16.  17.  18.  19.  20.  21.  22.  23.  24.  25.  26.  27.  28.\n",
      "  29.  30.  31.  32.  33.  34.  35.  36.  37.  38.  39.  40.  41.  42.\n",
      "  43.  44.  45.  46.  47.  48.  49.  50.  51.  52.  53.  54.  55.  56.\n",
      "  57.  58.  59.  60.  61.  62.  63.  64.  65.  66.  67.  68.  69.  70.\n",
      "  71.  72.  73.  74.  75.  76.  77.  78.  79.  80.  81.  82.  83.  84.\n",
      "  85.  86.  87.  88.  89.  90.  91.  92.  93.  94.  95.  96.  97.  98.\n",
      "  99. 100. 101. 102. 103. 104. 105. 106. 107. 108. 109. 110. 111. 112.\n",
      " 113. 114. 115. 116. 117. 118. 119. 120. 121. 122. 123. 124. 125. 126.\n",
      " 127. 128. 129. 130. 131. 132. 133. 134. 135. 136. 137. 138. 139. 140.\n",
      " 141. 142. 143. 144. 145. 146. 147. 148. 149. 150. 151. 152. 153. 154.\n",
      " 155. 156. 157. 158. 159. 160. 161. 162. 163. 164. 165. 166. 167. 168.\n",
      " 169. 170. 171. 172. 173. 174. 175. 176. 177. 178. 179. 180. 181. 182.\n",
      " 183. 184. 185. 186. 187. 188. 189. 190. 191. 192. 193. 194. 195. 196.\n",
      " 197. 198. 199. 200. 201. 202. 203. 204. 205. 206. 207. 208. 209. 210.\n",
      " 211. 212. 213. 214. 215. 216. 217. 218. 219. 220. 221. 222. 223. 224.\n",
      " 225. 226. 227. 228. 229. 230. 231. 232. 233. 234. 235. 236. 237. 238.\n",
      " 239. 240. 241. 242. 243. 244. 245. 246. 247. 248. 249. 250. 251. 252.\n",
      " 253. 254. 255. 256. 257. 258. 259. 260. 261. 262. 263. 264. 265. 266.\n",
      " 267. 268. 269. 270. 271. 272. 273. 274. 275. 276. 277. 278. 279. 280.\n",
      " 281. 282. 283. 284. 285. 286. 287. 288. 289. 290. 291. 292. 293. 294.\n",
      " 295. 296. 297. 298. 299. 300.  nan]\n",
      "\n",
      "Unique values in 'Status' column:\n",
      "['Trip Completed' 'Cancelled' 'No Cars Available']\n",
      "\n",
      "Unique values in 'Request_timestamp' column:\n",
      "['11/7/2016 11:51' '11/7/2016 17:57' '12/7/2016 9:17' ...\n",
      " '15-07-2016 23:52:06' '15-07-2016 23:54:39' '15-07-2016 23:55:03']\n",
      "\n",
      "Unique values in 'Drop_timestamp' column:\n",
      "['11/7/2016 13:00' '11/7/2016 18:47' '12/7/2016 9:58' ...\n",
      " '13-07-2016 23:43:13' '15-07-2016 09:56:07' nan]\n"
     ]
    }
   ],
   "source": [
    "# Check unique values in all the columns 'Request id', 'Pickup point' , 'Status'\n",
    "print(\"Column-wise unique values :\\n{}\\n\".format(Data_Uber.apply(lambda x : x.nunique())))\n",
    "\n",
    "for col in Data_Uber.columns:\n",
    "    print(\"\\nUnique values in '{}' column:\".format(col))\n",
    "    print(Data_Uber[col].unique())\n"
   ]
  },
  {
   "cell_type": "markdown",
   "metadata": {},
   "source": [
    "__From initial look at the data, the following observations are made:__\n",
    "    1. 'Request_id' -> Unique id for each trip request.\n",
    "    \n",
    "    2. 'Pickup_point' -> Point from where the passenger has requested the pickup.Has only two values : 'Airport' and 'City'.\n",
    "    \n",
    "    3. 'Driver_id' -> Unique identifier for each Uber Driver Partner. Also co'ntains some 'NaN' values.\n",
    "    \n",
    "    4. 'Status' -> Indicates the status of the trip. Has three status' : 'Trip Completed' , 'Cancelled' and \n",
    "        'No Cars Available'.\n",
    "        \n",
    "    5. 'Request_timestamp' -> Indicates the Date and Time at which the request was received from the passenger.\n",
    "        Noticed that the DateTime Stamps are of 'object' datatype meaning they are present in string format.\n",
    "        Also, the DateTime Stamps are present in two date formats i.e.,'dd/m/yyyy hh:mm' and 'dd-mm-yyyy hh:mm:ss'.\n",
    "        Need to standardize to convert the column to 'datetime' datatype and thus standardize the date format.\n",
    "        \n",
    "    6. 'Drop_timestamp' -> Indicates the Date and Time at which the passenger dropped at the destination.\n",
    "        Noticed that the DateTime Stamps are of 'object' datatype meaning they are present in string format.\n",
    "        Also, the DateTime Stamps are present in two date formats i.e., 'dd/m/yyyy hh:mm' and 'dd-mm-yyyy hh:mm:ss'.\n",
    "        Need to standardize to convert the column to 'datetime' datatype and thus standardize the date format."
   ]
  },
  {
   "cell_type": "markdown",
   "metadata": {},
   "source": [
    "## 2 Data Cleaning and Creation of New Derived-Columns"
   ]
  },
  {
   "cell_type": "markdown",
   "metadata": {},
   "source": [
    "### 2.1 Data Cleaning"
   ]
  },
  {
   "cell_type": "markdown",
   "metadata": {},
   "source": [
    "#### 2.1.1 Data Conversion \n",
    "\n",
    "The data in columns __'Request_timestamp'__ and __'Drop_timestamp'__ needs to be converted to __'datetime'__ datatype.\n",
    "\n",
    "Further, the Date is present in two different date formats : __'dd/m/yyyy hh:mm'__ and __'dd-mm-yyyy hh:mm:ss'__.\n",
    "\n",
    "Care to be taken to correctly handle these two date formats and convert to correct 'datetime' value.\n",
    "\n",
    "Both can be handled using the __to_datetime()__ function and no additional formatting (like replacing and/or splitting) is required.\n",
    "\n",
    "It is noticed that both the formats have day-first format. Hence, we can use the parameter __\"dayfirst=True\"__."
   ]
  },
  {
   "cell_type": "code",
   "execution_count": 11,
   "metadata": {},
   "outputs": [],
   "source": [
    "Data_Uber['Request_timestamp'] = pd.to_datetime(Data_Uber['Request_timestamp'],dayfirst=True)\n",
    "Data_Uber['Drop_timestamp'] = pd.to_datetime(Data_Uber['Drop_timestamp'],dayfirst=True)"
   ]
  },
  {
   "cell_type": "code",
   "execution_count": 12,
   "metadata": {},
   "outputs": [
    {
     "name": "stdout",
     "output_type": "stream",
     "text": [
      "<class 'pandas.core.frame.DataFrame'>\n",
      "RangeIndex: 6745 entries, 0 to 6744\n",
      "Data columns (total 6 columns):\n",
      "Request_id           6745 non-null int64\n",
      "Pickup_point         6745 non-null object\n",
      "Driver_id            4095 non-null float64\n",
      "Status               6745 non-null object\n",
      "Request_timestamp    6745 non-null datetime64[ns]\n",
      "Drop_timestamp       2831 non-null datetime64[ns]\n",
      "dtypes: datetime64[ns](2), float64(1), int64(1), object(2)\n",
      "memory usage: 316.2+ KB\n",
      "None\n"
     ]
    },
    {
     "data": {
      "text/html": [
       "<div>\n",
       "<style scoped>\n",
       "    .dataframe tbody tr th:only-of-type {\n",
       "        vertical-align: middle;\n",
       "    }\n",
       "\n",
       "    .dataframe tbody tr th {\n",
       "        vertical-align: top;\n",
       "    }\n",
       "\n",
       "    .dataframe thead th {\n",
       "        text-align: right;\n",
       "    }\n",
       "</style>\n",
       "<table border=\"1\" class=\"dataframe\">\n",
       "  <thead>\n",
       "    <tr style=\"text-align: right;\">\n",
       "      <th></th>\n",
       "      <th>Request_id</th>\n",
       "      <th>Pickup_point</th>\n",
       "      <th>Driver_id</th>\n",
       "      <th>Status</th>\n",
       "      <th>Request_timestamp</th>\n",
       "      <th>Drop_timestamp</th>\n",
       "    </tr>\n",
       "  </thead>\n",
       "  <tbody>\n",
       "    <tr>\n",
       "      <th>0</th>\n",
       "      <td>619</td>\n",
       "      <td>Airport</td>\n",
       "      <td>1.0</td>\n",
       "      <td>Trip Completed</td>\n",
       "      <td>2016-07-11 11:51:00</td>\n",
       "      <td>2016-07-11 13:00:00</td>\n",
       "    </tr>\n",
       "    <tr>\n",
       "      <th>1</th>\n",
       "      <td>867</td>\n",
       "      <td>Airport</td>\n",
       "      <td>1.0</td>\n",
       "      <td>Trip Completed</td>\n",
       "      <td>2016-07-11 17:57:00</td>\n",
       "      <td>2016-07-11 18:47:00</td>\n",
       "    </tr>\n",
       "    <tr>\n",
       "      <th>2</th>\n",
       "      <td>1807</td>\n",
       "      <td>City</td>\n",
       "      <td>1.0</td>\n",
       "      <td>Trip Completed</td>\n",
       "      <td>2016-07-12 09:17:00</td>\n",
       "      <td>2016-07-12 09:58:00</td>\n",
       "    </tr>\n",
       "    <tr>\n",
       "      <th>3</th>\n",
       "      <td>2532</td>\n",
       "      <td>Airport</td>\n",
       "      <td>1.0</td>\n",
       "      <td>Trip Completed</td>\n",
       "      <td>2016-07-12 21:08:00</td>\n",
       "      <td>2016-07-12 22:03:00</td>\n",
       "    </tr>\n",
       "    <tr>\n",
       "      <th>4</th>\n",
       "      <td>3112</td>\n",
       "      <td>City</td>\n",
       "      <td>1.0</td>\n",
       "      <td>Trip Completed</td>\n",
       "      <td>2016-07-13 08:33:16</td>\n",
       "      <td>2016-07-13 09:25:47</td>\n",
       "    </tr>\n",
       "    <tr>\n",
       "      <th>5</th>\n",
       "      <td>3879</td>\n",
       "      <td>Airport</td>\n",
       "      <td>1.0</td>\n",
       "      <td>Trip Completed</td>\n",
       "      <td>2016-07-13 21:57:28</td>\n",
       "      <td>2016-07-13 22:28:59</td>\n",
       "    </tr>\n",
       "    <tr>\n",
       "      <th>6</th>\n",
       "      <td>4270</td>\n",
       "      <td>Airport</td>\n",
       "      <td>1.0</td>\n",
       "      <td>Trip Completed</td>\n",
       "      <td>2016-07-14 06:15:32</td>\n",
       "      <td>2016-07-14 07:13:15</td>\n",
       "    </tr>\n",
       "    <tr>\n",
       "      <th>7</th>\n",
       "      <td>5510</td>\n",
       "      <td>Airport</td>\n",
       "      <td>1.0</td>\n",
       "      <td>Trip Completed</td>\n",
       "      <td>2016-07-15 05:11:52</td>\n",
       "      <td>2016-07-15 06:07:52</td>\n",
       "    </tr>\n",
       "    <tr>\n",
       "      <th>8</th>\n",
       "      <td>6248</td>\n",
       "      <td>City</td>\n",
       "      <td>1.0</td>\n",
       "      <td>Trip Completed</td>\n",
       "      <td>2016-07-15 17:57:27</td>\n",
       "      <td>2016-07-15 18:50:51</td>\n",
       "    </tr>\n",
       "    <tr>\n",
       "      <th>9</th>\n",
       "      <td>267</td>\n",
       "      <td>City</td>\n",
       "      <td>2.0</td>\n",
       "      <td>Trip Completed</td>\n",
       "      <td>2016-07-11 06:46:00</td>\n",
       "      <td>2016-07-11 07:25:00</td>\n",
       "    </tr>\n",
       "  </tbody>\n",
       "</table>\n",
       "</div>"
      ],
      "text/plain": [
       "   Request_id Pickup_point  Driver_id          Status   Request_timestamp  \\\n",
       "0         619      Airport        1.0  Trip Completed 2016-07-11 11:51:00   \n",
       "1         867      Airport        1.0  Trip Completed 2016-07-11 17:57:00   \n",
       "2        1807         City        1.0  Trip Completed 2016-07-12 09:17:00   \n",
       "3        2532      Airport        1.0  Trip Completed 2016-07-12 21:08:00   \n",
       "4        3112         City        1.0  Trip Completed 2016-07-13 08:33:16   \n",
       "5        3879      Airport        1.0  Trip Completed 2016-07-13 21:57:28   \n",
       "6        4270      Airport        1.0  Trip Completed 2016-07-14 06:15:32   \n",
       "7        5510      Airport        1.0  Trip Completed 2016-07-15 05:11:52   \n",
       "8        6248         City        1.0  Trip Completed 2016-07-15 17:57:27   \n",
       "9         267         City        2.0  Trip Completed 2016-07-11 06:46:00   \n",
       "\n",
       "       Drop_timestamp  \n",
       "0 2016-07-11 13:00:00  \n",
       "1 2016-07-11 18:47:00  \n",
       "2 2016-07-12 09:58:00  \n",
       "3 2016-07-12 22:03:00  \n",
       "4 2016-07-13 09:25:47  \n",
       "5 2016-07-13 22:28:59  \n",
       "6 2016-07-14 07:13:15  \n",
       "7 2016-07-15 06:07:52  \n",
       "8 2016-07-15 18:50:51  \n",
       "9 2016-07-11 07:25:00  "
      ]
     },
     "execution_count": 12,
     "metadata": {},
     "output_type": "execute_result"
    }
   ],
   "source": [
    "# Check the datatype of the columns and initial 10 rows for proper conversion.\n",
    "print(Data_Uber.info())\n",
    "Data_Uber.head(10)"
   ]
  },
  {
   "cell_type": "markdown",
   "metadata": {},
   "source": [
    "#### 2.1.2 Duplicate Rows\n",
    "Check if there are any duplicate rows unsing the __duplicated()__ function. \n",
    "\n",
    "In case there are duplicate rows, We need to be delete them."
   ]
  },
  {
   "cell_type": "code",
   "execution_count": 13,
   "metadata": {},
   "outputs": [
    {
     "data": {
      "text/html": [
       "<div>\n",
       "<style scoped>\n",
       "    .dataframe tbody tr th:only-of-type {\n",
       "        vertical-align: middle;\n",
       "    }\n",
       "\n",
       "    .dataframe tbody tr th {\n",
       "        vertical-align: top;\n",
       "    }\n",
       "\n",
       "    .dataframe thead th {\n",
       "        text-align: right;\n",
       "    }\n",
       "</style>\n",
       "<table border=\"1\" class=\"dataframe\">\n",
       "  <thead>\n",
       "    <tr style=\"text-align: right;\">\n",
       "      <th></th>\n",
       "      <th>Request_id</th>\n",
       "      <th>Pickup_point</th>\n",
       "      <th>Driver_id</th>\n",
       "      <th>Status</th>\n",
       "      <th>Request_timestamp</th>\n",
       "      <th>Drop_timestamp</th>\n",
       "    </tr>\n",
       "  </thead>\n",
       "  <tbody>\n",
       "  </tbody>\n",
       "</table>\n",
       "</div>"
      ],
      "text/plain": [
       "Empty DataFrame\n",
       "Columns: [Request_id, Pickup_point, Driver_id, Status, Request_timestamp, Drop_timestamp]\n",
       "Index: []"
      ]
     },
     "execution_count": 13,
     "metadata": {},
     "output_type": "execute_result"
    }
   ],
   "source": [
    "Data_Uber[Data_Uber.duplicated()]"
   ]
  },
  {
   "cell_type": "markdown",
   "metadata": {},
   "source": [
    "No rows returned by the __duplicated()__ function implies that there are no duplicate rows in the dataframe.\n",
    "\n",
    "---"
   ]
  },
  {
   "cell_type": "markdown",
   "metadata": {},
   "source": [
    "#### 2.1.3 Check for Business Rule Violations"
   ]
  },
  {
   "cell_type": "markdown",
   "metadata": {},
   "source": [
    "1 ) Ensure that there are no violations in the __'Request_timestamp'__ and __'Drop_Timestamp'__ columns i.e., 'Drop_Timestamp' can never be lesser than 'Request_timestamp'"
   ]
  },
  {
   "cell_type": "code",
   "execution_count": 14,
   "metadata": {},
   "outputs": [
    {
     "data": {
      "text/html": [
       "<div>\n",
       "<style scoped>\n",
       "    .dataframe tbody tr th:only-of-type {\n",
       "        vertical-align: middle;\n",
       "    }\n",
       "\n",
       "    .dataframe tbody tr th {\n",
       "        vertical-align: top;\n",
       "    }\n",
       "\n",
       "    .dataframe thead th {\n",
       "        text-align: right;\n",
       "    }\n",
       "</style>\n",
       "<table border=\"1\" class=\"dataframe\">\n",
       "  <thead>\n",
       "    <tr style=\"text-align: right;\">\n",
       "      <th></th>\n",
       "      <th>Request_id</th>\n",
       "      <th>Pickup_point</th>\n",
       "      <th>Driver_id</th>\n",
       "      <th>Status</th>\n",
       "      <th>Request_timestamp</th>\n",
       "      <th>Drop_timestamp</th>\n",
       "    </tr>\n",
       "  </thead>\n",
       "  <tbody>\n",
       "  </tbody>\n",
       "</table>\n",
       "</div>"
      ],
      "text/plain": [
       "Empty DataFrame\n",
       "Columns: [Request_id, Pickup_point, Driver_id, Status, Request_timestamp, Drop_timestamp]\n",
       "Index: []"
      ]
     },
     "execution_count": 14,
     "metadata": {},
     "output_type": "execute_result"
    }
   ],
   "source": [
    "Data_Uber[Data_Uber['Drop_timestamp'] < Data_Uber['Request_timestamp']]"
   ]
  },
  {
   "cell_type": "markdown",
   "metadata": {},
   "source": [
    "Since the above condition check does not return any rows, it indicates that all the rows comply to this rule with respect to 'Request_timestamp' and 'Drop_Timestamp' columns.\n",
    "\n",
    "---"
   ]
  },
  {
   "cell_type": "markdown",
   "metadata": {},
   "source": [
    "2 ) When the __'Status'__ is __'No Cars Available'__, the columns __'Driver_id'__ and __'Drop_timestamp'__ cannot have any values (and should be represented by __'NaN'__ and __'NaT'__).\n",
    "\n",
    "Check for any records which violate this rule."
   ]
  },
  {
   "cell_type": "code",
   "execution_count": 15,
   "metadata": {},
   "outputs": [
    {
     "name": "stdout",
     "output_type": "stream",
     "text": [
      "\n",
      "'Driver_id' when 'Status' is 'No Cars Available' : [nan]\n",
      "\n",
      "\n",
      "'Drop_timestamp' when 'Status' is 'No Cars Available' : ['NaT']\n",
      "\n",
      "\n",
      "Count of records with 'Status' as 'No Cars Available' : 2650\n",
      "\n"
     ]
    },
    {
     "data": {
      "text/html": [
       "<div>\n",
       "<style scoped>\n",
       "    .dataframe tbody tr th:only-of-type {\n",
       "        vertical-align: middle;\n",
       "    }\n",
       "\n",
       "    .dataframe tbody tr th {\n",
       "        vertical-align: top;\n",
       "    }\n",
       "\n",
       "    .dataframe thead th {\n",
       "        text-align: right;\n",
       "    }\n",
       "</style>\n",
       "<table border=\"1\" class=\"dataframe\">\n",
       "  <thead>\n",
       "    <tr style=\"text-align: right;\">\n",
       "      <th></th>\n",
       "      <th>Request_id</th>\n",
       "      <th>Pickup_point</th>\n",
       "      <th>Driver_id</th>\n",
       "      <th>Status</th>\n",
       "      <th>Request_timestamp</th>\n",
       "      <th>Drop_timestamp</th>\n",
       "    </tr>\n",
       "  </thead>\n",
       "  <tbody>\n",
       "    <tr>\n",
       "      <th>4095</th>\n",
       "      <td>1362</td>\n",
       "      <td>City</td>\n",
       "      <td>NaN</td>\n",
       "      <td>No Cars Available</td>\n",
       "      <td>2016-07-11 00:02:00</td>\n",
       "      <td>NaT</td>\n",
       "    </tr>\n",
       "    <tr>\n",
       "      <th>4096</th>\n",
       "      <td>1364</td>\n",
       "      <td>City</td>\n",
       "      <td>NaN</td>\n",
       "      <td>No Cars Available</td>\n",
       "      <td>2016-07-11 00:06:00</td>\n",
       "      <td>NaT</td>\n",
       "    </tr>\n",
       "    <tr>\n",
       "      <th>4097</th>\n",
       "      <td>1366</td>\n",
       "      <td>City</td>\n",
       "      <td>NaN</td>\n",
       "      <td>No Cars Available</td>\n",
       "      <td>2016-07-11 00:09:00</td>\n",
       "      <td>NaT</td>\n",
       "    </tr>\n",
       "    <tr>\n",
       "      <th>4098</th>\n",
       "      <td>2</td>\n",
       "      <td>Airport</td>\n",
       "      <td>NaN</td>\n",
       "      <td>No Cars Available</td>\n",
       "      <td>2016-07-11 00:23:00</td>\n",
       "      <td>NaT</td>\n",
       "    </tr>\n",
       "    <tr>\n",
       "      <th>4099</th>\n",
       "      <td>7</td>\n",
       "      <td>Airport</td>\n",
       "      <td>NaN</td>\n",
       "      <td>No Cars Available</td>\n",
       "      <td>2016-07-11 00:30:00</td>\n",
       "      <td>NaT</td>\n",
       "    </tr>\n",
       "  </tbody>\n",
       "</table>\n",
       "</div>"
      ],
      "text/plain": [
       "      Request_id Pickup_point  Driver_id             Status  \\\n",
       "4095        1362         City        NaN  No Cars Available   \n",
       "4096        1364         City        NaN  No Cars Available   \n",
       "4097        1366         City        NaN  No Cars Available   \n",
       "4098           2      Airport        NaN  No Cars Available   \n",
       "4099           7      Airport        NaN  No Cars Available   \n",
       "\n",
       "       Request_timestamp Drop_timestamp  \n",
       "4095 2016-07-11 00:02:00            NaT  \n",
       "4096 2016-07-11 00:06:00            NaT  \n",
       "4097 2016-07-11 00:09:00            NaT  \n",
       "4098 2016-07-11 00:23:00            NaT  \n",
       "4099 2016-07-11 00:30:00            NaT  "
      ]
     },
     "execution_count": 15,
     "metadata": {},
     "output_type": "execute_result"
    }
   ],
   "source": [
    "# Check for 'Driver_id'\n",
    "print(\"\\n'Driver_id' when 'Status' is 'No Cars Available' : {}\\n\".\n",
    "      format(Data_Uber[Data_Uber.Status == 'No Cars Available']['Driver_id'].unique()))\n",
    "\n",
    "# Check for 'Drop_timestamp'\n",
    "print(\"\\n'Drop_timestamp' when 'Status' is 'No Cars Available' : {}\\n\".\n",
    "      format(Data_Uber[Data_Uber.Status == 'No Cars Available']['Drop_timestamp'].unique()))\n",
    "\n",
    "# Count of records with 'Status' as 'No Cars Available'\n",
    "print(\"\\nCount of records with 'Status' as 'No Cars Available' : {}\\n\".\n",
    "      format(sum(Data_Uber.Status == 'No Cars Available')))\n",
    "\n",
    "# Display a few records where 'Status' is 'No Cars Available'\n",
    "Data_Uber[Data_Uber.Status == 'No Cars Available'].head()"
   ]
  },
  {
   "cell_type": "markdown",
   "metadata": {},
   "source": [
    "From the above test, it is verified that the columns __'Driver_id'__ and __'Drop_timestamp'__ do not have any values\n",
    "and are represented by __'NaN'__ and __'NaT'__ values respectively.\n",
    "\n",
    "---"
   ]
  },
  {
   "cell_type": "markdown",
   "metadata": {},
   "source": [
    "3 ) When the __'Status'__ is __'Cancelled'__, the __'Drop_timestamp'__ should have __'NaN'__ values and column __'Driver_id'__ should have a valid value\n",
    "\n",
    "Check for any records which violate this rule."
   ]
  },
  {
   "cell_type": "code",
   "execution_count": 16,
   "metadata": {},
   "outputs": [
    {
     "name": "stdout",
     "output_type": "stream",
     "text": [
      "\n",
      "'Driver_id' when 'Status' is 'Cancelled' : \n",
      "[  1.   2.   3.   4.   5.   6.   7.   8.   9.  10.  13.  14.  15.  16.\n",
      "  17.  18.  19.  20.  21.  22.  23.  24.  25.  26.  27.  28.  29.  30.\n",
      "  31.  32.  33.  34.  35.  36.  37.  38.  39.  40.  41.  43.  44.  45.\n",
      "  46.  47.  48.  49.  50.  51.  52.  53.  54.  56.  57.  58.  59.  60.\n",
      "  61.  62.  63.  64.  65.  66.  67.  68.  69.  70.  71.  72.  73.  74.\n",
      "  76.  77.  78.  79.  80.  81.  82.  83.  84.  85.  86.  87.  88.  89.\n",
      "  90.  91.  92.  93.  94.  95.  96.  97.  98.  99. 100. 101. 102. 103.\n",
      " 104. 105. 106. 107. 108. 109. 110. 111. 112. 113. 114. 115. 116. 117.\n",
      " 118. 119. 120. 121. 122. 123. 124. 125. 126. 127. 128. 129. 130. 131.\n",
      " 132. 133. 134. 135. 136. 137. 138. 139. 140. 141. 142. 143. 144. 145.\n",
      " 146. 147. 148. 149. 150. 151. 152. 153. 154. 155. 156. 157. 158. 159.\n",
      " 160. 161. 162. 163. 164. 165. 166. 167. 168. 169. 170. 171. 172. 173.\n",
      " 174. 175. 176. 177. 178. 179. 180. 181. 182. 183. 184. 185. 186. 187.\n",
      " 188. 189. 190. 191. 192. 193. 194. 195. 196. 197. 198. 199. 200. 201.\n",
      " 202. 203. 204. 205. 206. 207. 208. 209. 210. 211. 212. 213. 214. 215.\n",
      " 216. 217. 218. 219. 220. 221. 222. 223. 224. 225. 226. 227. 228. 229.\n",
      " 230. 231. 232. 233. 234. 235. 236. 237. 238. 239. 240. 241. 242. 243.\n",
      " 244. 245. 246. 247. 248. 249. 250. 251. 252. 253. 254. 255. 256. 257.\n",
      " 258. 259. 260. 261. 262. 263. 264. 265. 266. 267. 268. 269. 270. 271.\n",
      " 272. 273. 274. 275. 276. 277. 278. 279. 280. 281. 282. 283. 284. 285.\n",
      " 286. 287. 288. 289. 290. 291. 292. 293. 294. 295. 296. 297. 298. 299.\n",
      " 300.]\n",
      "\n",
      "\n",
      "'Drop_timestamp' when 'Status' is 'Cancelled' : ['NaT']\n",
      "\n",
      "\n",
      "Count of records with 'Status' is 'Cancelled' : 1264\n",
      "\n",
      "\n",
      "Few rows with 'Status' as 'Cancelled'\n",
      "\n"
     ]
    },
    {
     "data": {
      "text/html": [
       "<div>\n",
       "<style scoped>\n",
       "    .dataframe tbody tr th:only-of-type {\n",
       "        vertical-align: middle;\n",
       "    }\n",
       "\n",
       "    .dataframe tbody tr th {\n",
       "        vertical-align: top;\n",
       "    }\n",
       "\n",
       "    .dataframe thead th {\n",
       "        text-align: right;\n",
       "    }\n",
       "</style>\n",
       "<table border=\"1\" class=\"dataframe\">\n",
       "  <thead>\n",
       "    <tr style=\"text-align: right;\">\n",
       "      <th></th>\n",
       "      <th>Request_id</th>\n",
       "      <th>Pickup_point</th>\n",
       "      <th>Driver_id</th>\n",
       "      <th>Status</th>\n",
       "      <th>Request_timestamp</th>\n",
       "      <th>Drop_timestamp</th>\n",
       "    </tr>\n",
       "  </thead>\n",
       "  <tbody>\n",
       "    <tr>\n",
       "      <th>2831</th>\n",
       "      <td>2905</td>\n",
       "      <td>City</td>\n",
       "      <td>1.0</td>\n",
       "      <td>Cancelled</td>\n",
       "      <td>2016-07-13 06:08:41</td>\n",
       "      <td>NaT</td>\n",
       "    </tr>\n",
       "    <tr>\n",
       "      <th>2832</th>\n",
       "      <td>4805</td>\n",
       "      <td>City</td>\n",
       "      <td>1.0</td>\n",
       "      <td>Cancelled</td>\n",
       "      <td>2016-07-14 17:07:58</td>\n",
       "      <td>NaT</td>\n",
       "    </tr>\n",
       "    <tr>\n",
       "      <th>2833</th>\n",
       "      <td>5202</td>\n",
       "      <td>Airport</td>\n",
       "      <td>1.0</td>\n",
       "      <td>Cancelled</td>\n",
       "      <td>2016-07-14 20:51:37</td>\n",
       "      <td>NaT</td>\n",
       "    </tr>\n",
       "    <tr>\n",
       "      <th>2834</th>\n",
       "      <td>5927</td>\n",
       "      <td>City</td>\n",
       "      <td>1.0</td>\n",
       "      <td>Cancelled</td>\n",
       "      <td>2016-07-15 10:12:40</td>\n",
       "      <td>NaT</td>\n",
       "    </tr>\n",
       "    <tr>\n",
       "      <th>2835</th>\n",
       "      <td>2347</td>\n",
       "      <td>Airport</td>\n",
       "      <td>2.0</td>\n",
       "      <td>Cancelled</td>\n",
       "      <td>2016-07-12 19:14:00</td>\n",
       "      <td>NaT</td>\n",
       "    </tr>\n",
       "  </tbody>\n",
       "</table>\n",
       "</div>"
      ],
      "text/plain": [
       "      Request_id Pickup_point  Driver_id     Status   Request_timestamp  \\\n",
       "2831        2905         City        1.0  Cancelled 2016-07-13 06:08:41   \n",
       "2832        4805         City        1.0  Cancelled 2016-07-14 17:07:58   \n",
       "2833        5202      Airport        1.0  Cancelled 2016-07-14 20:51:37   \n",
       "2834        5927         City        1.0  Cancelled 2016-07-15 10:12:40   \n",
       "2835        2347      Airport        2.0  Cancelled 2016-07-12 19:14:00   \n",
       "\n",
       "     Drop_timestamp  \n",
       "2831            NaT  \n",
       "2832            NaT  \n",
       "2833            NaT  \n",
       "2834            NaT  \n",
       "2835            NaT  "
      ]
     },
     "execution_count": 16,
     "metadata": {},
     "output_type": "execute_result"
    }
   ],
   "source": [
    "# Check for 'Driver_id'\n",
    "print(\"\\n'Driver_id' when 'Status' is 'Cancelled' : \\n{}\\n\".\n",
    "      format(Data_Uber[Data_Uber.Status == 'Cancelled']['Driver_id'].unique()))\n",
    "\n",
    "# Check for 'Drop_timestamp'\n",
    "print(\"\\n'Drop_timestamp' when 'Status' is 'Cancelled' : {}\\n\".\n",
    "      format(Data_Uber[Data_Uber.Status == 'Cancelled']['Drop_timestamp'].unique()))\n",
    "\n",
    "# Count of records with 'Status' is 'Cancelled'\n",
    "print(\"\\nCount of records with 'Status' is 'Cancelled' : {}\\n\".\n",
    "      format(sum(Data_Uber.Status == 'Cancelled')))\n",
    "\n",
    "# Display a few records where 'Status' is 'Cancelled'\n",
    "print(\"\\nFew rows with 'Status' as 'Cancelled'\\n\")\n",
    "Data_Uber[Data_Uber.Status == 'Cancelled'].head()"
   ]
  },
  {
   "cell_type": "markdown",
   "metadata": {},
   "source": [
    "From the above test, it is verified that the columns __'Driver_id'__ has valid values \n",
    "and __'Drop_timestamp'__ does not have any values(represented by 'NaT' values).\n",
    "\n",
    "Further, it appears that each of the drivers has cancelled atleast one trip.\n",
    "\n",
    "---"
   ]
  },
  {
   "cell_type": "markdown",
   "metadata": {},
   "source": [
    "### 2.2 Derived Columns"
   ]
  },
  {
   "cell_type": "markdown",
   "metadata": {},
   "source": [
    "#### 2.2.1. 'Request_Date' - Capture the Date and Day of booking (Type derived metric).\n",
    "'Request_Date' would be required to group car booking requests based on the Date of booking with information of the day aswell."
   ]
  },
  {
   "cell_type": "code",
   "execution_count": 17,
   "metadata": {},
   "outputs": [],
   "source": [
    "Data_Uber['Request_Date'] = Data_Uber.Request_timestamp.dt.strftime('%d-%b-%Y (%a)')"
   ]
  },
  {
   "cell_type": "markdown",
   "metadata": {},
   "source": [
    "---\n",
    "\n",
    "#### 2.2.2. 'Request_Hour' - Capture the Hour of booking (Type derived metric).\n",
    "'Request_Hour' would be required to group car booking requests based on the hour of the day."
   ]
  },
  {
   "cell_type": "code",
   "execution_count": 18,
   "metadata": {},
   "outputs": [],
   "source": [
    "Data_Uber['Request_Hour'] = Data_Uber.Request_timestamp.dt.hour"
   ]
  },
  {
   "cell_type": "markdown",
   "metadata": {},
   "source": [
    "---\n",
    "\n",
    "#### 2.2.3. 'Trip_Completed' - Derive whether the trip was completed or not (Business derived metric).\n",
    "'Trip_Completed' would be required to group car booking requests based on whether the trip was completed or not.\n",
    "\n",
    "Value __Yes__ : Trip __Completed__ \n",
    "\n",
    "Value __No__ : Trip __Not Completed__ "
   ]
  },
  {
   "cell_type": "code",
   "execution_count": 19,
   "metadata": {},
   "outputs": [],
   "source": [
    "Data_Uber['Trip_Completed'] = Data_Uber.Status.apply(lambda x : \"Yes\" if x == \"Trip Completed\" else \"No\")"
   ]
  },
  {
   "cell_type": "code",
   "execution_count": 20,
   "metadata": {},
   "outputs": [
    {
     "data": {
      "text/html": [
       "<div>\n",
       "<style scoped>\n",
       "    .dataframe tbody tr th:only-of-type {\n",
       "        vertical-align: middle;\n",
       "    }\n",
       "\n",
       "    .dataframe tbody tr th {\n",
       "        vertical-align: top;\n",
       "    }\n",
       "\n",
       "    .dataframe thead th {\n",
       "        text-align: right;\n",
       "    }\n",
       "</style>\n",
       "<table border=\"1\" class=\"dataframe\">\n",
       "  <thead>\n",
       "    <tr style=\"text-align: right;\">\n",
       "      <th></th>\n",
       "      <th>Request_id</th>\n",
       "      <th>Pickup_point</th>\n",
       "      <th>Driver_id</th>\n",
       "      <th>Status</th>\n",
       "      <th>Request_timestamp</th>\n",
       "      <th>Drop_timestamp</th>\n",
       "      <th>Request_Date</th>\n",
       "      <th>Request_Hour</th>\n",
       "      <th>Trip_Completed</th>\n",
       "    </tr>\n",
       "  </thead>\n",
       "  <tbody>\n",
       "    <tr>\n",
       "      <th>0</th>\n",
       "      <td>619</td>\n",
       "      <td>Airport</td>\n",
       "      <td>1.0</td>\n",
       "      <td>Trip Completed</td>\n",
       "      <td>2016-07-11 11:51:00</td>\n",
       "      <td>2016-07-11 13:00:00</td>\n",
       "      <td>11-Jul-2016 (Mon)</td>\n",
       "      <td>11</td>\n",
       "      <td>Yes</td>\n",
       "    </tr>\n",
       "    <tr>\n",
       "      <th>1</th>\n",
       "      <td>867</td>\n",
       "      <td>Airport</td>\n",
       "      <td>1.0</td>\n",
       "      <td>Trip Completed</td>\n",
       "      <td>2016-07-11 17:57:00</td>\n",
       "      <td>2016-07-11 18:47:00</td>\n",
       "      <td>11-Jul-2016 (Mon)</td>\n",
       "      <td>17</td>\n",
       "      <td>Yes</td>\n",
       "    </tr>\n",
       "    <tr>\n",
       "      <th>2</th>\n",
       "      <td>1807</td>\n",
       "      <td>City</td>\n",
       "      <td>1.0</td>\n",
       "      <td>Trip Completed</td>\n",
       "      <td>2016-07-12 09:17:00</td>\n",
       "      <td>2016-07-12 09:58:00</td>\n",
       "      <td>12-Jul-2016 (Tue)</td>\n",
       "      <td>9</td>\n",
       "      <td>Yes</td>\n",
       "    </tr>\n",
       "    <tr>\n",
       "      <th>3</th>\n",
       "      <td>2532</td>\n",
       "      <td>Airport</td>\n",
       "      <td>1.0</td>\n",
       "      <td>Trip Completed</td>\n",
       "      <td>2016-07-12 21:08:00</td>\n",
       "      <td>2016-07-12 22:03:00</td>\n",
       "      <td>12-Jul-2016 (Tue)</td>\n",
       "      <td>21</td>\n",
       "      <td>Yes</td>\n",
       "    </tr>\n",
       "    <tr>\n",
       "      <th>4</th>\n",
       "      <td>3112</td>\n",
       "      <td>City</td>\n",
       "      <td>1.0</td>\n",
       "      <td>Trip Completed</td>\n",
       "      <td>2016-07-13 08:33:16</td>\n",
       "      <td>2016-07-13 09:25:47</td>\n",
       "      <td>13-Jul-2016 (Wed)</td>\n",
       "      <td>8</td>\n",
       "      <td>Yes</td>\n",
       "    </tr>\n",
       "    <tr>\n",
       "      <th>5</th>\n",
       "      <td>3879</td>\n",
       "      <td>Airport</td>\n",
       "      <td>1.0</td>\n",
       "      <td>Trip Completed</td>\n",
       "      <td>2016-07-13 21:57:28</td>\n",
       "      <td>2016-07-13 22:28:59</td>\n",
       "      <td>13-Jul-2016 (Wed)</td>\n",
       "      <td>21</td>\n",
       "      <td>Yes</td>\n",
       "    </tr>\n",
       "    <tr>\n",
       "      <th>6</th>\n",
       "      <td>4270</td>\n",
       "      <td>Airport</td>\n",
       "      <td>1.0</td>\n",
       "      <td>Trip Completed</td>\n",
       "      <td>2016-07-14 06:15:32</td>\n",
       "      <td>2016-07-14 07:13:15</td>\n",
       "      <td>14-Jul-2016 (Thu)</td>\n",
       "      <td>6</td>\n",
       "      <td>Yes</td>\n",
       "    </tr>\n",
       "    <tr>\n",
       "      <th>7</th>\n",
       "      <td>5510</td>\n",
       "      <td>Airport</td>\n",
       "      <td>1.0</td>\n",
       "      <td>Trip Completed</td>\n",
       "      <td>2016-07-15 05:11:52</td>\n",
       "      <td>2016-07-15 06:07:52</td>\n",
       "      <td>15-Jul-2016 (Fri)</td>\n",
       "      <td>5</td>\n",
       "      <td>Yes</td>\n",
       "    </tr>\n",
       "    <tr>\n",
       "      <th>8</th>\n",
       "      <td>6248</td>\n",
       "      <td>City</td>\n",
       "      <td>1.0</td>\n",
       "      <td>Trip Completed</td>\n",
       "      <td>2016-07-15 17:57:27</td>\n",
       "      <td>2016-07-15 18:50:51</td>\n",
       "      <td>15-Jul-2016 (Fri)</td>\n",
       "      <td>17</td>\n",
       "      <td>Yes</td>\n",
       "    </tr>\n",
       "    <tr>\n",
       "      <th>9</th>\n",
       "      <td>267</td>\n",
       "      <td>City</td>\n",
       "      <td>2.0</td>\n",
       "      <td>Trip Completed</td>\n",
       "      <td>2016-07-11 06:46:00</td>\n",
       "      <td>2016-07-11 07:25:00</td>\n",
       "      <td>11-Jul-2016 (Mon)</td>\n",
       "      <td>6</td>\n",
       "      <td>Yes</td>\n",
       "    </tr>\n",
       "  </tbody>\n",
       "</table>\n",
       "</div>"
      ],
      "text/plain": [
       "   Request_id Pickup_point  Driver_id          Status   Request_timestamp  \\\n",
       "0         619      Airport        1.0  Trip Completed 2016-07-11 11:51:00   \n",
       "1         867      Airport        1.0  Trip Completed 2016-07-11 17:57:00   \n",
       "2        1807         City        1.0  Trip Completed 2016-07-12 09:17:00   \n",
       "3        2532      Airport        1.0  Trip Completed 2016-07-12 21:08:00   \n",
       "4        3112         City        1.0  Trip Completed 2016-07-13 08:33:16   \n",
       "5        3879      Airport        1.0  Trip Completed 2016-07-13 21:57:28   \n",
       "6        4270      Airport        1.0  Trip Completed 2016-07-14 06:15:32   \n",
       "7        5510      Airport        1.0  Trip Completed 2016-07-15 05:11:52   \n",
       "8        6248         City        1.0  Trip Completed 2016-07-15 17:57:27   \n",
       "9         267         City        2.0  Trip Completed 2016-07-11 06:46:00   \n",
       "\n",
       "       Drop_timestamp       Request_Date  Request_Hour Trip_Completed  \n",
       "0 2016-07-11 13:00:00  11-Jul-2016 (Mon)            11            Yes  \n",
       "1 2016-07-11 18:47:00  11-Jul-2016 (Mon)            17            Yes  \n",
       "2 2016-07-12 09:58:00  12-Jul-2016 (Tue)             9            Yes  \n",
       "3 2016-07-12 22:03:00  12-Jul-2016 (Tue)            21            Yes  \n",
       "4 2016-07-13 09:25:47  13-Jul-2016 (Wed)             8            Yes  \n",
       "5 2016-07-13 22:28:59  13-Jul-2016 (Wed)            21            Yes  \n",
       "6 2016-07-14 07:13:15  14-Jul-2016 (Thu)             6            Yes  \n",
       "7 2016-07-15 06:07:52  15-Jul-2016 (Fri)             5            Yes  \n",
       "8 2016-07-15 18:50:51  15-Jul-2016 (Fri)            17            Yes  \n",
       "9 2016-07-11 07:25:00  11-Jul-2016 (Mon)             6            Yes  "
      ]
     },
     "execution_count": 20,
     "metadata": {},
     "output_type": "execute_result"
    }
   ],
   "source": [
    "# Check initial 10 rows to ensure creation of new derived columns and correctness of values in each of these new columns.\n",
    "Data_Uber.head(10)"
   ]
  },
  {
   "cell_type": "markdown",
   "metadata": {},
   "source": [
    "---\n",
    "\n",
    "#### 2.2.4. 'Time_Slots' - Derive time slots based on frequency of requests(Business derived metric).\n",
    "'Time_Sl0ts' would be required to group car booking requests based various time slots of the day like 'Morning','Night' etc.\n",
    "\n",
    "To derive the 'Time_Slots', plot the number of requests received for each of the hours. Depending on the pattern, we can then group hours into various time slots."
   ]
  },
  {
   "cell_type": "markdown",
   "metadata": {},
   "source": [
    "##### 2.2.4.1 Distribution Plot: Generate a distplot using the Data_Uber.Request_Hour column to get a feel of the distribution of the requests over the hours of the day."
   ]
  },
  {
   "cell_type": "code",
   "execution_count": 21,
   "metadata": {},
   "outputs": [
    {
     "name": "stderr",
     "output_type": "stream",
     "text": [
      "C:\\Users\\Vinay-Dell\\Anaconda3\\lib\\site-packages\\matplotlib\\axes\\_axes.py:6462: UserWarning: The 'normed' kwarg is deprecated, and has been replaced by the 'density' kwarg.\n",
      "  warnings.warn(\"The 'normed' kwarg is deprecated, and has been \"\n"
     ]
    },
    {
     "data": {
      "image/png": "[encoded data removed]",
      "text/plain": [
       "<Figure size 792x360 with 1 Axes>"
      ]
     },
     "metadata": {},
     "output_type": "display_data"
    }
   ],
   "source": [
    "plt.figure(figsize=(11,5))\n",
    "axs = sns.distplot(Data_Uber.Request_Hour,bins=range(25)).set(xlim=(0, 23),xticks=range(25))\n",
    "plt.tight_layout()\n",
    "plt.show()"
   ]
  },
  {
   "cell_type": "markdown",
   "metadata": {},
   "source": [
    "We can notice that the __frequency__ of the requests is __high__ during the hours __'5 AM to 9 AM'__ and __'5 PM to 9PM'__.\n",
    "\n",
    "---\n",
    "\n",
    "##### 2.2.4.2 Stacked-Bar Plot: Generate a stacked-bar plot using the Data_Uber.Request_Hour column to get the number of requests over the hours of the day grouped by the 'Pickup-point'.\n",
    "The plot will help us understand the source of the requests and their volumes.\n",
    "\n",
    "The number at the top of the bar indicates the total count of requests for that hour. The nunmbers within each box indicate the count of the requests received for a particular 'Pickup_point' for a particular hour."
   ]
  },
  {
   "cell_type": "code",
   "execution_count": 22,
   "metadata": {},
   "outputs": [
    {
     "data": {
      "image/png": "[encoded data removed]",
      "text/plain": [
       "<Figure size 1080x360 with 1 Axes>"
      ]
     },
     "metadata": {},
     "output_type": "display_data"
    }
   ],
   "source": [
    "ax = Data_Uber.groupby(['Request_Hour','Pickup_point'])['Trip_Completed'].count().\\\n",
    "unstack().plot(kind=\"bar\",stacked=True,figsize=(15,5),rot=0)\n",
    "for p in ax.patches:\n",
    "    h = p.get_height()\n",
    "    x,y = p.get_xy()\n",
    "    if y != 0:\n",
    "        total = int(y + h)\n",
    "        ax.annotate('{}'.format(total), (x,total+5))\n",
    "    x  += .25\n",
    "    y =  ( h / 2 ) +  (y - 5 )\n",
    "    p.set_width(0.8)\n",
    "    ax.annotate('{}'.format(p.get_height()), (x,y))\n",
    "    \n",
    "plt.tight_layout()\n",
    "plt.show() "
   ]
  },
  {
   "cell_type": "markdown",
   "metadata": {},
   "source": [
    "The same data in a tabular format :"
   ]
  },
  {
   "cell_type": "code",
   "execution_count": 23,
   "metadata": {},
   "outputs": [
    {
     "data": {
      "text/html": [
       "<div>\n",
       "<style scoped>\n",
       "    .dataframe tbody tr th:only-of-type {\n",
       "        vertical-align: middle;\n",
       "    }\n",
       "\n",
       "    .dataframe tbody tr th {\n",
       "        vertical-align: top;\n",
       "    }\n",
       "\n",
       "    .dataframe thead th {\n",
       "        text-align: right;\n",
       "    }\n",
       "</style>\n",
       "<table border=\"1\" class=\"dataframe\">\n",
       "  <thead>\n",
       "    <tr style=\"text-align: right;\">\n",
       "      <th>Request_Hour</th>\n",
       "      <th>0</th>\n",
       "      <th>1</th>\n",
       "      <th>2</th>\n",
       "      <th>3</th>\n",
       "      <th>4</th>\n",
       "      <th>5</th>\n",
       "      <th>6</th>\n",
       "      <th>7</th>\n",
       "      <th>8</th>\n",
       "      <th>9</th>\n",
       "      <th>10</th>\n",
       "      <th>11</th>\n",
       "      <th>12</th>\n",
       "      <th>13</th>\n",
       "      <th>14</th>\n",
       "      <th>15</th>\n",
       "      <th>16</th>\n",
       "      <th>17</th>\n",
       "      <th>18</th>\n",
       "      <th>19</th>\n",
       "      <th>20</th>\n",
       "      <th>21</th>\n",
       "      <th>22</th>\n",
       "      <th>23</th>\n",
       "      <th>Total</th>\n",
       "    </tr>\n",
       "    <tr>\n",
       "      <th>Pickup_point</th>\n",
       "      <th></th>\n",
       "      <th></th>\n",
       "      <th></th>\n",
       "      <th></th>\n",
       "      <th></th>\n",
       "      <th></th>\n",
       "      <th></th>\n",
       "      <th></th>\n",
       "      <th></th>\n",
       "      <th></th>\n",
       "      <th></th>\n",
       "      <th></th>\n",
       "      <th></th>\n",
       "      <th></th>\n",
       "      <th></th>\n",
       "      <th></th>\n",
       "      <th></th>\n",
       "      <th></th>\n",
       "      <th></th>\n",
       "      <th></th>\n",
       "      <th></th>\n",
       "      <th></th>\n",
       "      <th></th>\n",
       "      <th></th>\n",
       "      <th></th>\n",
       "    </tr>\n",
       "  </thead>\n",
       "  <tbody>\n",
       "    <tr>\n",
       "      <th>City</th>\n",
       "      <td>46</td>\n",
       "      <td>43</td>\n",
       "      <td>58</td>\n",
       "      <td>47</td>\n",
       "      <td>131</td>\n",
       "      <td>353</td>\n",
       "      <td>309</td>\n",
       "      <td>323</td>\n",
       "      <td>350</td>\n",
       "      <td>342</td>\n",
       "      <td>168</td>\n",
       "      <td>107</td>\n",
       "      <td>97</td>\n",
       "      <td>95</td>\n",
       "      <td>86</td>\n",
       "      <td>95</td>\n",
       "      <td>98</td>\n",
       "      <td>110</td>\n",
       "      <td>105</td>\n",
       "      <td>107</td>\n",
       "      <td>114</td>\n",
       "      <td>106</td>\n",
       "      <td>121</td>\n",
       "      <td>96</td>\n",
       "      <td>3507</td>\n",
       "    </tr>\n",
       "    <tr>\n",
       "      <th>Airport</th>\n",
       "      <td>53</td>\n",
       "      <td>42</td>\n",
       "      <td>41</td>\n",
       "      <td>45</td>\n",
       "      <td>72</td>\n",
       "      <td>92</td>\n",
       "      <td>89</td>\n",
       "      <td>83</td>\n",
       "      <td>73</td>\n",
       "      <td>89</td>\n",
       "      <td>75</td>\n",
       "      <td>64</td>\n",
       "      <td>87</td>\n",
       "      <td>65</td>\n",
       "      <td>50</td>\n",
       "      <td>76</td>\n",
       "      <td>61</td>\n",
       "      <td>308</td>\n",
       "      <td>405</td>\n",
       "      <td>366</td>\n",
       "      <td>378</td>\n",
       "      <td>343</td>\n",
       "      <td>183</td>\n",
       "      <td>98</td>\n",
       "      <td>3238</td>\n",
       "    </tr>\n",
       "    <tr>\n",
       "      <th>Total</th>\n",
       "      <td>99</td>\n",
       "      <td>85</td>\n",
       "      <td>99</td>\n",
       "      <td>92</td>\n",
       "      <td>203</td>\n",
       "      <td>445</td>\n",
       "      <td>398</td>\n",
       "      <td>406</td>\n",
       "      <td>423</td>\n",
       "      <td>431</td>\n",
       "      <td>243</td>\n",
       "      <td>171</td>\n",
       "      <td>184</td>\n",
       "      <td>160</td>\n",
       "      <td>136</td>\n",
       "      <td>171</td>\n",
       "      <td>159</td>\n",
       "      <td>418</td>\n",
       "      <td>510</td>\n",
       "      <td>473</td>\n",
       "      <td>492</td>\n",
       "      <td>449</td>\n",
       "      <td>304</td>\n",
       "      <td>194</td>\n",
       "      <td>6745</td>\n",
       "    </tr>\n",
       "  </tbody>\n",
       "</table>\n",
       "</div>"
      ],
      "text/plain": [
       "Request_Hour   0   1   2   3    4    5    6    7    8    9   10   11   12  \\\n",
       "Pickup_point                                                                \n",
       "City          46  43  58  47  131  353  309  323  350  342  168  107   97   \n",
       "Airport       53  42  41  45   72   92   89   83   73   89   75   64   87   \n",
       "Total         99  85  99  92  203  445  398  406  423  431  243  171  184   \n",
       "\n",
       "Request_Hour   13   14   15   16   17   18   19   20   21   22   23  Total  \n",
       "Pickup_point                                                                \n",
       "City           95   86   95   98  110  105  107  114  106  121   96   3507  \n",
       "Airport        65   50   76   61  308  405  366  378  343  183   98   3238  \n",
       "Total         160  136  171  159  418  510  473  492  449  304  194   6745  "
      ]
     },
     "execution_count": 23,
     "metadata": {},
     "output_type": "execute_result"
    }
   ],
   "source": [
    "Data_Uber.pivot_table(index=\"Request_Hour\",columns=\"Pickup_point\",values=\"Request_id\",\n",
    "                           aggfunc=\"count\",margins=True,margins_name=\"Total\")[['City','Airport','Total']].T"
   ]
  },
  {
   "cell_type": "markdown",
   "metadata": {},
   "source": [
    "Inference 1: During the time-slot __5AM to 9AM__ we see __high-volume__ of requests from __'City-to-Airport'__,\n",
    "\n",
    "whereas during the time-slot __5PM to 9PM__ we see __high-volume__ of requests from __'Airport-to-City'__.\n",
    "\n",
    "---\n",
    "\n",
    "##### 2.2.4.3 Stacked-Bar Plot: Generate a stacked-bar plot using the Data_Uber.Request_Hour column to get the number of requests over the hours of the day grouped by whether the trip was completed or not using the column 'Trip_Completed'.\n",
    "The plot will help us understand the trip completon pattern across hours of the day.\n",
    "\n",
    "Create a new dataframe which has the hourly statistics grouped by whether the request is 'Completed' or 'Not_Completed'."
   ]
  },
  {
   "cell_type": "code",
   "execution_count": 24,
   "metadata": {},
   "outputs": [
    {
     "data": {
      "text/html": [
       "<div>\n",
       "<style scoped>\n",
       "    .dataframe tbody tr th:only-of-type {\n",
       "        vertical-align: middle;\n",
       "    }\n",
       "\n",
       "    .dataframe tbody tr th {\n",
       "        vertical-align: top;\n",
       "    }\n",
       "\n",
       "    .dataframe thead th {\n",
       "        text-align: right;\n",
       "    }\n",
       "</style>\n",
       "<table border=\"1\" class=\"dataframe\">\n",
       "  <thead>\n",
       "    <tr style=\"text-align: right;\">\n",
       "      <th>Request_Hour</th>\n",
       "      <th>0</th>\n",
       "      <th>1</th>\n",
       "      <th>2</th>\n",
       "      <th>3</th>\n",
       "      <th>4</th>\n",
       "      <th>5</th>\n",
       "      <th>6</th>\n",
       "      <th>7</th>\n",
       "      <th>8</th>\n",
       "      <th>9</th>\n",
       "      <th>10</th>\n",
       "      <th>11</th>\n",
       "      <th>12</th>\n",
       "      <th>13</th>\n",
       "      <th>14</th>\n",
       "      <th>15</th>\n",
       "      <th>16</th>\n",
       "      <th>17</th>\n",
       "      <th>18</th>\n",
       "      <th>19</th>\n",
       "      <th>20</th>\n",
       "      <th>21</th>\n",
       "      <th>22</th>\n",
       "      <th>23</th>\n",
       "    </tr>\n",
       "    <tr>\n",
       "      <th>Trip_Completed</th>\n",
       "      <th></th>\n",
       "      <th></th>\n",
       "      <th></th>\n",
       "      <th></th>\n",
       "      <th></th>\n",
       "      <th></th>\n",
       "      <th></th>\n",
       "      <th></th>\n",
       "      <th></th>\n",
       "      <th></th>\n",
       "      <th></th>\n",
       "      <th></th>\n",
       "      <th></th>\n",
       "      <th></th>\n",
       "      <th></th>\n",
       "      <th></th>\n",
       "      <th></th>\n",
       "      <th></th>\n",
       "      <th></th>\n",
       "      <th></th>\n",
       "      <th></th>\n",
       "      <th></th>\n",
       "      <th></th>\n",
       "      <th></th>\n",
       "    </tr>\n",
       "  </thead>\n",
       "  <tbody>\n",
       "    <tr>\n",
       "      <th>No</th>\n",
       "      <td>59</td>\n",
       "      <td>60</td>\n",
       "      <td>62</td>\n",
       "      <td>58</td>\n",
       "      <td>125</td>\n",
       "      <td>260</td>\n",
       "      <td>231</td>\n",
       "      <td>232</td>\n",
       "      <td>268</td>\n",
       "      <td>258</td>\n",
       "      <td>127</td>\n",
       "      <td>56</td>\n",
       "      <td>63</td>\n",
       "      <td>71</td>\n",
       "      <td>48</td>\n",
       "      <td>69</td>\n",
       "      <td>68</td>\n",
       "      <td>267</td>\n",
       "      <td>346</td>\n",
       "      <td>307</td>\n",
       "      <td>331</td>\n",
       "      <td>307</td>\n",
       "      <td>150</td>\n",
       "      <td>91</td>\n",
       "    </tr>\n",
       "    <tr>\n",
       "      <th>Yes</th>\n",
       "      <td>40</td>\n",
       "      <td>25</td>\n",
       "      <td>37</td>\n",
       "      <td>34</td>\n",
       "      <td>78</td>\n",
       "      <td>185</td>\n",
       "      <td>167</td>\n",
       "      <td>174</td>\n",
       "      <td>155</td>\n",
       "      <td>173</td>\n",
       "      <td>116</td>\n",
       "      <td>115</td>\n",
       "      <td>121</td>\n",
       "      <td>89</td>\n",
       "      <td>88</td>\n",
       "      <td>102</td>\n",
       "      <td>91</td>\n",
       "      <td>151</td>\n",
       "      <td>164</td>\n",
       "      <td>166</td>\n",
       "      <td>161</td>\n",
       "      <td>142</td>\n",
       "      <td>154</td>\n",
       "      <td>103</td>\n",
       "    </tr>\n",
       "    <tr>\n",
       "      <th>Total</th>\n",
       "      <td>99</td>\n",
       "      <td>85</td>\n",
       "      <td>99</td>\n",
       "      <td>92</td>\n",
       "      <td>203</td>\n",
       "      <td>445</td>\n",
       "      <td>398</td>\n",
       "      <td>406</td>\n",
       "      <td>423</td>\n",
       "      <td>431</td>\n",
       "      <td>243</td>\n",
       "      <td>171</td>\n",
       "      <td>184</td>\n",
       "      <td>160</td>\n",
       "      <td>136</td>\n",
       "      <td>171</td>\n",
       "      <td>159</td>\n",
       "      <td>418</td>\n",
       "      <td>510</td>\n",
       "      <td>473</td>\n",
       "      <td>492</td>\n",
       "      <td>449</td>\n",
       "      <td>304</td>\n",
       "      <td>194</td>\n",
       "    </tr>\n",
       "    <tr>\n",
       "      <th>%_Trip_Completed</th>\n",
       "      <td>40</td>\n",
       "      <td>29</td>\n",
       "      <td>37</td>\n",
       "      <td>37</td>\n",
       "      <td>38</td>\n",
       "      <td>42</td>\n",
       "      <td>42</td>\n",
       "      <td>43</td>\n",
       "      <td>37</td>\n",
       "      <td>40</td>\n",
       "      <td>48</td>\n",
       "      <td>67</td>\n",
       "      <td>66</td>\n",
       "      <td>56</td>\n",
       "      <td>65</td>\n",
       "      <td>60</td>\n",
       "      <td>57</td>\n",
       "      <td>36</td>\n",
       "      <td>32</td>\n",
       "      <td>35</td>\n",
       "      <td>33</td>\n",
       "      <td>32</td>\n",
       "      <td>51</td>\n",
       "      <td>53</td>\n",
       "    </tr>\n",
       "  </tbody>\n",
       "</table>\n",
       "</div>"
      ],
      "text/plain": [
       "Request_Hour      0   1   2   3    4    5    6    7    8    9    10   11   12  \\\n",
       "Trip_Completed                                                                  \n",
       "No                59  60  62  58  125  260  231  232  268  258  127   56   63   \n",
       "Yes               40  25  37  34   78  185  167  174  155  173  116  115  121   \n",
       "Total             99  85  99  92  203  445  398  406  423  431  243  171  184   \n",
       "%_Trip_Completed  40  29  37  37   38   42   42   43   37   40   48   67   66   \n",
       "\n",
       "Request_Hour       13   14   15   16   17   18   19   20   21   22   23  \n",
       "Trip_Completed                                                           \n",
       "No                 71   48   69   68  267  346  307  331  307  150   91  \n",
       "Yes                89   88  102   91  151  164  166  161  142  154  103  \n",
       "Total             160  136  171  159  418  510  473  492  449  304  194  \n",
       "%_Trip_Completed   56   65   60   57   36   32   35   33   32   51   53  "
      ]
     },
     "execution_count": 24,
     "metadata": {},
     "output_type": "execute_result"
    }
   ],
   "source": [
    "hourly_stats = Data_Uber.pivot_table(index=\"Request_Hour\",columns=\"Trip_Completed\",values=\"Request_id\",\n",
    "                           aggfunc=\"count\",margins=True,margins_name=\"Total\",fill_value=0)\n",
    "hourly_stats['%_Trip_Completed'] = round(100*hourly_stats['Yes']/hourly_stats['Total'])\n",
    "hourly_stats = hourly_stats.drop('Total').astype(int)\n",
    "hourly_stats.index.name = 'Request_Hour'\n",
    "hourly_stats.T"
   ]
  },
  {
   "cell_type": "markdown",
   "metadata": {},
   "source": [
    "Plot a __\"stacked-bar\"__ plot for each of the hours of the day with stacks for __'Completed'__ and __'Not_Completed'__ requests.\n",
    "\n",
    "The numbers within the stacked bars indicate the count of requests completed (in green) and not-completed(in red) for each of the hours."
   ]
  },
  {
   "cell_type": "code",
   "execution_count": 25,
   "metadata": {},
   "outputs": [
    {
     "data": {
      "image/png": "[encoded data removed]",
      "text/plain": [
       "<Figure size 1080x360 with 1 Axes>"
      ]
     },
     "metadata": {},
     "output_type": "display_data"
    }
   ],
   "source": [
    "ax2 = hourly_stats.plot(y=['Yes','No'],kind=\"bar\",\\\n",
    "                        stacked=True,figsize=(15,5),rot=0,color=['tab:green','tab:red'])\n",
    "\n",
    "for p in ax2.patches:\n",
    "    h = p.get_height()\n",
    "    x,y = p.get_xy()\n",
    "    x  += .25\n",
    "    y =  ( h / 2 ) +  (y - 5 )\n",
    "    p.set_width(0.8)\n",
    "    ax2.annotate('{}'.format(p.get_height()), (x,y),color='w')\n",
    "plt.legend(loc='upper right')    \n",
    "plt.tight_layout()\n",
    "plt.show() "
   ]
  },
  {
   "cell_type": "markdown",
   "metadata": {},
   "source": [
    "Inference 2: __High number__ of requests were __not completed__ during the dtime-slots __5AM to 9AM and 5PM to 9PM__ \n",
    "\n",
    "---\n",
    "A __\"heatmap\"__ is used to depict the percentage of trips completed for each of the hours of the day."
   ]
  },
  {
   "cell_type": "code",
   "execution_count": 26,
   "metadata": {},
   "outputs": [
    {
     "data": {
      "image/png": "[encoded data removed]",
      "text/plain": [
       "<Figure size 864x216 with 2 Axes>"
      ]
     },
     "metadata": {},
     "output_type": "display_data"
    }
   ],
   "source": [
    "plt.figure(figsize=(12,3))\n",
    "sns.heatmap(hourly_stats[['%_Trip_Completed']].T,\\\n",
    "            annot=True,cmap='RdYlGn',cbar_kws={\"orientation\": \"horizontal\"},yticklabels=\"\")\n",
    "plt.ylabel(\"%_Trip_Completed\")\n",
    "\n",
    "plt.tight_layout()\n",
    "plt.show() "
   ]
  },
  {
   "cell_type": "markdown",
   "metadata": {},
   "source": [
    "__Inference 3:__ \n",
    "\n",
    "Between __10AM  and 05PM__ (Time-Slot 10AM-04PM) : The trip completion percentage is __Very-Good__.\n",
    "             \n",
    "Between __05PM  and 10PM__ (Time-Slot 05PM-09PM) : The trip completion percentage is __Severely-Bad__.\n",
    "\n",
    "Between __10PM  and 01AM__ (Time-Slot 10PM-12AM) : The trip completion percentage is __Good__.\n",
    "\n",
    "Between __01AM  and 05AM__ (Time-Slot 01AM-04AM) : The trip completion percentage is __Bad__.\n",
    "\n",
    "Between __05AM  and 10AM__ (Time-Slot 05AM-09AM) : The trip completion percentage is __Moderately-Bad__. "
   ]
  },
  {
   "cell_type": "markdown",
   "metadata": {},
   "source": [
    "Based on the __Inference 1,2 and 3__, we can categorise five 'Time_Slots' as follows:\n",
    "\n",
    "__1.Hours 5,6,7,8,9 (5AM-9AM)             : Morning__\n",
    "\n",
    "__2.Hours 10,11,12,13,14,15,16 (10AM-4PM) : Mid-Day__\n",
    "\n",
    "__3.Hours 17,18,19,20,21 (5PM-9PM)        : Evening__\n",
    "\n",
    "__4.Hours 22,23,0 (10pM-12AM)             : Night__\n",
    "\n",
    "__5.Hours 1,2,3,4 (1AM-4AM)               : Late-Night__\n",
    "\n",
    "\n",
    "\n",
    "---\n",
    "\n",
    "Write a function to determine the 'Time_Slot' based on the 'Request_Hour'. \n",
    "\n",
    "__Apply__ the function on all __'Request_hour'__ coulmn and save the result in a new column __'Time_Slot'__.\n",
    "\n",
    "Display the first few rows to ensure creation of the new column with the correct value."
   ]
  },
  {
   "cell_type": "code",
   "execution_count": 27,
   "metadata": {},
   "outputs": [
    {
     "data": {
      "text/html": [
       "<div>\n",
       "<style scoped>\n",
       "    .dataframe tbody tr th:only-of-type {\n",
       "        vertical-align: middle;\n",
       "    }\n",
       "\n",
       "    .dataframe tbody tr th {\n",
       "        vertical-align: top;\n",
       "    }\n",
       "\n",
       "    .dataframe thead th {\n",
       "        text-align: right;\n",
       "    }\n",
       "</style>\n",
       "<table border=\"1\" class=\"dataframe\">\n",
       "  <thead>\n",
       "    <tr style=\"text-align: right;\">\n",
       "      <th></th>\n",
       "      <th>Request_id</th>\n",
       "      <th>Pickup_point</th>\n",
       "      <th>Driver_id</th>\n",
       "      <th>Status</th>\n",
       "      <th>Request_timestamp</th>\n",
       "      <th>Drop_timestamp</th>\n",
       "      <th>Request_Date</th>\n",
       "      <th>Request_Hour</th>\n",
       "      <th>Trip_Completed</th>\n",
       "      <th>Time_Slot</th>\n",
       "    </tr>\n",
       "  </thead>\n",
       "  <tbody>\n",
       "    <tr>\n",
       "      <th>0</th>\n",
       "      <td>619</td>\n",
       "      <td>Airport</td>\n",
       "      <td>1.0</td>\n",
       "      <td>Trip Completed</td>\n",
       "      <td>2016-07-11 11:51:00</td>\n",
       "      <td>2016-07-11 13:00:00</td>\n",
       "      <td>11-Jul-2016 (Mon)</td>\n",
       "      <td>11</td>\n",
       "      <td>Yes</td>\n",
       "      <td>Mid-day(10AM-4PM)</td>\n",
       "    </tr>\n",
       "    <tr>\n",
       "      <th>1</th>\n",
       "      <td>867</td>\n",
       "      <td>Airport</td>\n",
       "      <td>1.0</td>\n",
       "      <td>Trip Completed</td>\n",
       "      <td>2016-07-11 17:57:00</td>\n",
       "      <td>2016-07-11 18:47:00</td>\n",
       "      <td>11-Jul-2016 (Mon)</td>\n",
       "      <td>17</td>\n",
       "      <td>Yes</td>\n",
       "      <td>Evening(5PM-9PM)</td>\n",
       "    </tr>\n",
       "    <tr>\n",
       "      <th>2</th>\n",
       "      <td>1807</td>\n",
       "      <td>City</td>\n",
       "      <td>1.0</td>\n",
       "      <td>Trip Completed</td>\n",
       "      <td>2016-07-12 09:17:00</td>\n",
       "      <td>2016-07-12 09:58:00</td>\n",
       "      <td>12-Jul-2016 (Tue)</td>\n",
       "      <td>9</td>\n",
       "      <td>Yes</td>\n",
       "      <td>Morning(5AM-9AM)</td>\n",
       "    </tr>\n",
       "    <tr>\n",
       "      <th>3</th>\n",
       "      <td>2532</td>\n",
       "      <td>Airport</td>\n",
       "      <td>1.0</td>\n",
       "      <td>Trip Completed</td>\n",
       "      <td>2016-07-12 21:08:00</td>\n",
       "      <td>2016-07-12 22:03:00</td>\n",
       "      <td>12-Jul-2016 (Tue)</td>\n",
       "      <td>21</td>\n",
       "      <td>Yes</td>\n",
       "      <td>Evening(5PM-9PM)</td>\n",
       "    </tr>\n",
       "    <tr>\n",
       "      <th>4</th>\n",
       "      <td>3112</td>\n",
       "      <td>City</td>\n",
       "      <td>1.0</td>\n",
       "      <td>Trip Completed</td>\n",
       "      <td>2016-07-13 08:33:16</td>\n",
       "      <td>2016-07-13 09:25:47</td>\n",
       "      <td>13-Jul-2016 (Wed)</td>\n",
       "      <td>8</td>\n",
       "      <td>Yes</td>\n",
       "      <td>Morning(5AM-9AM)</td>\n",
       "    </tr>\n",
       "    <tr>\n",
       "      <th>5</th>\n",
       "      <td>3879</td>\n",
       "      <td>Airport</td>\n",
       "      <td>1.0</td>\n",
       "      <td>Trip Completed</td>\n",
       "      <td>2016-07-13 21:57:28</td>\n",
       "      <td>2016-07-13 22:28:59</td>\n",
       "      <td>13-Jul-2016 (Wed)</td>\n",
       "      <td>21</td>\n",
       "      <td>Yes</td>\n",
       "      <td>Evening(5PM-9PM)</td>\n",
       "    </tr>\n",
       "    <tr>\n",
       "      <th>6</th>\n",
       "      <td>4270</td>\n",
       "      <td>Airport</td>\n",
       "      <td>1.0</td>\n",
       "      <td>Trip Completed</td>\n",
       "      <td>2016-07-14 06:15:32</td>\n",
       "      <td>2016-07-14 07:13:15</td>\n",
       "      <td>14-Jul-2016 (Thu)</td>\n",
       "      <td>6</td>\n",
       "      <td>Yes</td>\n",
       "      <td>Morning(5AM-9AM)</td>\n",
       "    </tr>\n",
       "    <tr>\n",
       "      <th>7</th>\n",
       "      <td>5510</td>\n",
       "      <td>Airport</td>\n",
       "      <td>1.0</td>\n",
       "      <td>Trip Completed</td>\n",
       "      <td>2016-07-15 05:11:52</td>\n",
       "      <td>2016-07-15 06:07:52</td>\n",
       "      <td>15-Jul-2016 (Fri)</td>\n",
       "      <td>5</td>\n",
       "      <td>Yes</td>\n",
       "      <td>Morning(5AM-9AM)</td>\n",
       "    </tr>\n",
       "    <tr>\n",
       "      <th>8</th>\n",
       "      <td>6248</td>\n",
       "      <td>City</td>\n",
       "      <td>1.0</td>\n",
       "      <td>Trip Completed</td>\n",
       "      <td>2016-07-15 17:57:27</td>\n",
       "      <td>2016-07-15 18:50:51</td>\n",
       "      <td>15-Jul-2016 (Fri)</td>\n",
       "      <td>17</td>\n",
       "      <td>Yes</td>\n",
       "      <td>Evening(5PM-9PM)</td>\n",
       "    </tr>\n",
       "    <tr>\n",
       "      <th>9</th>\n",
       "      <td>267</td>\n",
       "      <td>City</td>\n",
       "      <td>2.0</td>\n",
       "      <td>Trip Completed</td>\n",
       "      <td>2016-07-11 06:46:00</td>\n",
       "      <td>2016-07-11 07:25:00</td>\n",
       "      <td>11-Jul-2016 (Mon)</td>\n",
       "      <td>6</td>\n",
       "      <td>Yes</td>\n",
       "      <td>Morning(5AM-9AM)</td>\n",
       "    </tr>\n",
       "  </tbody>\n",
       "</table>\n",
       "</div>"
      ],
      "text/plain": [
       "   Request_id Pickup_point  Driver_id          Status   Request_timestamp  \\\n",
       "0         619      Airport        1.0  Trip Completed 2016-07-11 11:51:00   \n",
       "1         867      Airport        1.0  Trip Completed 2016-07-11 17:57:00   \n",
       "2        1807         City        1.0  Trip Completed 2016-07-12 09:17:00   \n",
       "3        2532      Airport        1.0  Trip Completed 2016-07-12 21:08:00   \n",
       "4        3112         City        1.0  Trip Completed 2016-07-13 08:33:16   \n",
       "5        3879      Airport        1.0  Trip Completed 2016-07-13 21:57:28   \n",
       "6        4270      Airport        1.0  Trip Completed 2016-07-14 06:15:32   \n",
       "7        5510      Airport        1.0  Trip Completed 2016-07-15 05:11:52   \n",
       "8        6248         City        1.0  Trip Completed 2016-07-15 17:57:27   \n",
       "9         267         City        2.0  Trip Completed 2016-07-11 06:46:00   \n",
       "\n",
       "       Drop_timestamp       Request_Date  Request_Hour Trip_Completed  \\\n",
       "0 2016-07-11 13:00:00  11-Jul-2016 (Mon)            11            Yes   \n",
       "1 2016-07-11 18:47:00  11-Jul-2016 (Mon)            17            Yes   \n",
       "2 2016-07-12 09:58:00  12-Jul-2016 (Tue)             9            Yes   \n",
       "3 2016-07-12 22:03:00  12-Jul-2016 (Tue)            21            Yes   \n",
       "4 2016-07-13 09:25:47  13-Jul-2016 (Wed)             8            Yes   \n",
       "5 2016-07-13 22:28:59  13-Jul-2016 (Wed)            21            Yes   \n",
       "6 2016-07-14 07:13:15  14-Jul-2016 (Thu)             6            Yes   \n",
       "7 2016-07-15 06:07:52  15-Jul-2016 (Fri)             5            Yes   \n",
       "8 2016-07-15 18:50:51  15-Jul-2016 (Fri)            17            Yes   \n",
       "9 2016-07-11 07:25:00  11-Jul-2016 (Mon)             6            Yes   \n",
       "\n",
       "           Time_Slot  \n",
       "0  Mid-day(10AM-4PM)  \n",
       "1   Evening(5PM-9PM)  \n",
       "2   Morning(5AM-9AM)  \n",
       "3   Evening(5PM-9PM)  \n",
       "4   Morning(5AM-9AM)  \n",
       "5   Evening(5PM-9PM)  \n",
       "6   Morning(5AM-9AM)  \n",
       "7   Morning(5AM-9AM)  \n",
       "8   Evening(5PM-9PM)  \n",
       "9   Morning(5AM-9AM)  "
      ]
     },
     "execution_count": 27,
     "metadata": {},
     "output_type": "execute_result"
    }
   ],
   "source": [
    "# Function to get the time-slot based on hour when the request was placed\n",
    "\n",
    "def getTimeSlot(x):\n",
    "    if 1 <= x <= 4:\n",
    "        return \"Late-Night(1AM-4AM)\"\n",
    "    elif 5 <= x <= 9:\n",
    "        return \"Morning(5AM-9AM)\"\n",
    "    elif 10 <= x <= 16:\n",
    "        return \"Mid-day(10AM-4PM)\"\n",
    "    elif 17 <= x <= 21:\n",
    "        return \"Evening(5PM-9PM)\"\n",
    "    else :\n",
    "        return \"Night(10PM-12AM)\"\n",
    "\n",
    "    \n",
    "Data_Uber['Time_Slot'] = Data_Uber.Request_Hour.apply(getTimeSlot)\n",
    "\n",
    "# Convert the 'Time_Slot' column to a column having categorical values\n",
    "Data_Uber['Time_Slot'] = pd.Categorical(Data_Uber['Time_Slot'],\n",
    "                        ['Morning(5AM-9AM)','Mid-day(10AM-4PM)', 'Evening(5PM-9PM)', 'Night(10PM-12AM)','Late-Night(1AM-4AM)'])\n",
    "\n",
    "Data_Uber.head(10)"
   ]
  },
  {
   "cell_type": "markdown",
   "metadata": {},
   "source": [
    "---"
   ]
  },
  {
   "cell_type": "markdown",
   "metadata": {},
   "source": [
    "## 3 Data Analysis\n",
    "\n",
    "---\n",
    "\n",
    "### 3.1 Identifying the most pressing issues faced by UBER\n",
    "\n",
    "---\n",
    "\n",
    "#### 3.1.1 Anaysis based on individual 'Status' of requests and completion of the request\n",
    "1. __'Status'__ column gives individual status of the request i.e., 'Trip Completed','Cancelled' or 'No Cars Available'.\n",
    "\n",
    "2. __'Trip Completed'__ column tells the oversall status of the request i.e., whether the trip was completed (__Yes__) or not (__No__).\n",
    "\n",
    "\n",
    "##### 3.1.1.1 Anaysis based on individual 'Status' of requests"
   ]
  },
  {
   "cell_type": "code",
   "execution_count": 28,
   "metadata": {},
   "outputs": [
    {
     "data": {
      "image/png": "[encoded data removed]",
      "text/plain": [
       "<Figure size 864x288 with 2 Axes>"
      ]
     },
     "metadata": {},
     "output_type": "display_data"
    }
   ],
   "source": [
    "# Set the size of the figure\n",
    "plt.figure(figsize=(12,4))\n",
    "\n",
    "# Frequency of Trips based on 'Status' of the requests viz 'Cancelled', 'No Cars Available' and 'Trip Completed'.\n",
    "# A bar chart showing the split-up of number of requests for each of the statuses\n",
    "plt.subplot(1,2,1)\n",
    "ax3111 = Data_Uber.groupby('Status')['Request_id'].count().plot(kind=\"bar\",rot=0)\n",
    "total_req=0\n",
    "for p in ax3111.patches:\n",
    "    x,y = p.get_xy()\n",
    "    ax3111.annotate('{}'.format(p.get_height()), (x+0.2,p.get_height()/2))\n",
    "    total_req += p.get_height()\n",
    "ax3111.annotate('Total Requests : {}'.format(total_req), (-0.4,2600))\n",
    "plt.xlabel(\"# of Trips by Status\")\n",
    "\n",
    "# A pie chart showing the split-up of pecentage of requests for each of the statuses\n",
    "plt.subplot(1,2,2)\n",
    "plt.pie(x=Data_Uber.groupby('Status')['Request_id'].count(),\n",
    "        labels=['Cancelled','No Cars Available','Trip Completed'],autopct='%1.f%%')\n",
    "\n",
    "plt.xlabel(\"% of Trips by Status\")\n",
    "\n",
    "# Show the plots\n",
    "plt.tight_layout()\n",
    "plt.show()"
   ]
  },
  {
   "cell_type": "markdown",
   "metadata": {},
   "source": [
    "__Percentage of requests by Status__\n",
    "\n",
    "__'Trip Completed' : 42% , 'No Cars Available' : 39% and 'Cancelled' : 19%.__\n",
    "\n",
    "This means that __only 42% of demand is met.__\n",
    "\n",
    "__58% of demand is not met__ , which is a huge percentage of requests not completed and needs to be addressed."
   ]
  },
  {
   "cell_type": "markdown",
   "metadata": {},
   "source": [
    "##### 3.1.1.2 Anaysis based on Trip Completion "
   ]
  },
  {
   "cell_type": "code",
   "execution_count": 50,
   "metadata": {},
   "outputs": [
    {
     "data": {
      "image/png": "[encoded data removed]",
      "text/plain": [
       "<Figure size 864x288 with 2 Axes>"
      ]
     },
     "metadata": {},
     "output_type": "display_data"
    }
   ],
   "source": [
    "# Set the size of the figure\n",
    "plt.figure(figsize=(12,4))\n",
    "\n",
    "# Frequency of Trips 'Completed' and 'Not_Completed'\n",
    "# A bar chart showing the split-up of number of requests which were 'Completed' and 'Not_Completed'\n",
    "plt.subplot(1,2,1)\n",
    "ax3112 = Data_Uber.groupby('Trip_Completed')['Request_id'].count().plot(kind=\"bar\",rot=0)\n",
    "total_req=0\n",
    "for p in ax3112.patches:\n",
    "    x,y = p.get_xy()\n",
    "    ax3112.annotate('{}'.format(p.get_height()), (x+0.2,p.get_height()/2))\n",
    "    total_req += p.get_height()\n",
    "ax3112.annotate('Total Requests : {}'.format(total_req), (x,3800))\n",
    "\n",
    "# A pie chart showing the split-up of pecentage of requests which were 'Completed' and 'Not_Completed'    \n",
    "plt.subplot(1,2,2)\n",
    "plt.pie(x=Data_Uber.groupby('Trip_Completed')['Request_id'].count(),\n",
    "        labels=['No','Yes'],autopct='%1.f%%')\n",
    "plt.xlabel(\"Percentage of Trips Completed\")\n",
    "\n",
    "\n",
    "# Show the plots\n",
    "plt.tight_layout()\n",
    "plt.show()"
   ]
  },
  {
   "cell_type": "markdown",
   "metadata": {},
   "source": [
    "__Only 42% of demand is met.__\n",
    "\n",
    "__58% of demand is not met__ , which is a huge percentage of requests not completed and needs to be addressed."
   ]
  },
  {
   "cell_type": "markdown",
   "metadata": {},
   "source": [
    "##### 3.1.1.3 Anaysis of Trips 'Not_Completed' \n",
    "\n",
    "The requests which were not completed comprise of requests with statuses 'Cancelled' and 'No Cars Available'. \n",
    "\n",
    "Plots considering only the requests with status' 'Cancelled' and 'No Cars Available' to identify the status-segment of the requests which were not completed. \n",
    "\n",
    "This would help us in identifying the reason due to which a majority of the requests are not being fulfilled. "
   ]
  },
  {
   "cell_type": "code",
   "execution_count": 30,
   "metadata": {},
   "outputs": [
    {
     "data": {
      "image/png": "[encoded data removed]",
      "text/plain": [
       "<Figure size 864x288 with 2 Axes>"
      ]
     },
     "metadata": {},
     "output_type": "display_data"
    }
   ],
   "source": [
    "# Set the size of the figure\n",
    "\n",
    "# A bar chart showing the split-up of number of Trips Not-Completed due to status 'Cancelled' and 'No Cars Available'.\n",
    "plt.figure(figsize=(12,4))\n",
    "plt.subplot(1,2,1)\n",
    "ax3113 = Data_Uber[Data_Uber.Status != 'Trip Completed'].\\\n",
    "groupby('Status')['Request_id'].count().plot(kind=\"bar\",rot=0)\n",
    "\n",
    "total_req=0\n",
    "for p in ax3113.patches:\n",
    "    x,y = p.get_xy()\n",
    "    ax3113.annotate('{}'.format(p.get_height()), (x+0.2,p.get_height()/2))\n",
    "    total_req += p.get_height()\n",
    "ax3113.annotate('Total Requests \\n\"Not_Completed\": {}'.format(total_req), (-0.4,2400))\n",
    "plt.xlabel(\"# Trips Not Completed\")\n",
    "\n",
    "# A pie chart showing the split-up of pecentage of Trips Not-Completed due to status 'Cancelled' and 'No Cars Available'.\n",
    "plt.subplot(1,2,2)\n",
    "plt.pie(x=Data_Uber[Data_Uber.Status != 'Trip Completed'].groupby('Status')['Request_id'].count(),\n",
    "        labels=['Cancelled','No Cars Available'],autopct='%1.f%%')\n",
    "plt.xlabel(\"% Trips Not Completed\")\n",
    "\n",
    "plt.tight_layout()\n",
    "plt.show()"
   ]
  },
  {
   "cell_type": "markdown",
   "metadata": {},
   "source": [
    "__68%__ of the trips were not completed due to the reason __'No Cars Available'__ , which indicates that there is a shortage of supply of cars.\n",
    "\n",
    "__32%__ of the trips were not completed as the Driver Partner 'Calcelled' the trip. Reasons for cancellation of trips by the Driver Partners will have to be documented and analysed.\n",
    "\n",
    "---\n",
    "\n",
    "__Major Problem-Areas identified from analysis based on 'Status' and 'Trip_Completed' columns:__\n",
    "\n",
    "1. 58% of trips are not completed i.e., __6 out of 10 trip requests are not completed. __\n",
    "\n",
    "2. 39% of trips are not completed due to 'No Cars Available' i.e., __4 out of 10 trip requests are not completed due to unavailability of cars__.\n",
    "\n",
    "3. 19% of trips are not completed due to trip 'Cancelled' by Driver Partner i.e., __2 out of 10 trip requests are not completed due to cancellation by Driver Partner__.\n",
    "\n",
    "4. Of the \"Trips Not-Completed\" , the major reason for non-completion is 'No Cars Available' ( 68% ) , followed by 'Cancelled' requests ( 32% ). __Nearly 7 out 10 \"Trips Not-Completed\" are due to Cars not available.__\n",
    "\n",
    "---\n",
    "---"
   ]
  },
  {
   "cell_type": "markdown",
   "metadata": {},
   "source": [
    "#### 3.1.2 Anaysis based on 'Pickup_point' ( location ) of the request \n",
    "\n",
    "---\n",
    "\n",
    "##### 3.1.2.1 Anaysis based only on 'Pickup_point' of the request"
   ]
  },
  {
   "cell_type": "code",
   "execution_count": 31,
   "metadata": {},
   "outputs": [
    {
     "data": {
      "image/png": "[encoded data removed]",
      "text/plain": [
       "<Figure size 432x288 with 1 Axes>"
      ]
     },
     "metadata": {},
     "output_type": "display_data"
    }
   ],
   "source": [
    "# A bar chart showing the split-up of number of requests for each of the pickup locations: City and Airport\n",
    "ax3121 = sns.barplot(data=Data_Uber,x='Pickup_point',y='Request_id',estimator=len)\n",
    "\n",
    "for p in ax3121.patches:\n",
    "    x,y = p.get_xy()\n",
    "    ax3121.annotate('{}'.format(p.get_height()), (x+.3,1800))\n",
    "plt.xlabel(\"Location of Pick-up\")\n",
    "plt.ylabel(\"Number of Requests\")\n",
    "\n",
    "plt.tight_layout()\n",
    "plt.show()"
   ]
  },
  {
   "cell_type": "markdown",
   "metadata": {},
   "source": [
    "The number shown inside the bar is the number of requests received from that particular Pickup Point.\n",
    "\n",
    "The number of requests from __City-to-Airport( 3507 )__ is marginally greater than the number of requests from __Airport-to-City( 3238 )__ .\n",
    "\n",
    "This could be due to other services available at the ariport like Dedicated-Airport Taxi, Bus Services, Competitors etc."
   ]
  },
  {
   "cell_type": "markdown",
   "metadata": {},
   "source": [
    "##### 3.1.2.2 Anaysis of Trip 'Status' based on 'Pickup_point'"
   ]
  },
  {
   "cell_type": "code",
   "execution_count": 32,
   "metadata": {},
   "outputs": [
    {
     "data": {
      "image/png": "[encoded data removed]",
      "text/plain": [
       "<Figure size 864x288 with 1 Axes>"
      ]
     },
     "metadata": {},
     "output_type": "display_data"
    },
    {
     "data": {
      "image/png": "[encoded data removed]",
      "text/plain": [
       "<Figure size 864x432 with 3 Axes>"
      ]
     },
     "metadata": {},
     "output_type": "display_data"
    }
   ],
   "source": [
    "# A bar chart showing the split-up of number of requests for each of the statuses grouped by pickup point\n",
    "ax3122 = Data_Uber.pivot_table(index=\"Status\",columns=\"Pickup_point\",values=\"Request_id\",\n",
    "                           aggfunc=\"count\").plot(kind=\"bar\",rot=0,figsize=(12,4),sort_columns=True)\n",
    "\n",
    "for p in ax3122.patches:\n",
    "    x,y = p.get_xy()\n",
    "    ax3122.annotate('{}'.format(p.get_height()), (x+.1,p.get_height()/2))\n",
    "plt.xlabel(\"Trip Status\")\n",
    "plt.ylabel(\"Number of Requests\")\n",
    "plt.tight_layout()\n",
    "plt.show()\n",
    "\n",
    "\n",
    "# Pie charts showing the split-up of pecentage of requests for each of the statuses grouped by pickup point\n",
    "plt.figure(figsize=(12,6))\n",
    "for i,k in enumerate(sorted(Data_Uber.Status.unique())):\n",
    "    plt.subplot(2,3,i+1)\n",
    "    plt.pie(x=Data_Uber[Data_Uber.Status == k].groupby(['Status','Pickup_point'])['Request_id'].count(),\n",
    "        autopct='%1.f%%',labels=['Airport','City'])\n",
    "    plt.xlabel(k)\n",
    "    \n",
    "plt.tight_layout()\n",
    "plt.show()"
   ]
  },
  {
   "cell_type": "markdown",
   "metadata": {},
   "source": [
    "__Inferences :__\n",
    "\n",
    "1. Of the total number of trip not completed due to cancellations by Driver Partner i.e., __'Cancelled'__ status, __84%__ of the cancellations have happened for requests for __City-to-Airport__ Trips. Driver Partners are hesitant to take trips from City-to-Airport and the reason for the same needs to be analysed.\n",
    "\n",
    "\n",
    "2. Of the total number of trip not completed due to unavailibity of car i.e., __'No Cars Available'__ status, __65%__ of the supply-crunch was for requests for __Airport-to-City__ Trips and __35%__ for __'City-to-Airport'__ trips. The shortage of cars is evident in both the types of trips be is very sever for Airport-to-City trips.\n",
    "\n",
    "Since, a lot of Driver Partners are cancelling their trips to the airport, a situation of low supply may be getting created at the airport where the trips are not getting completed due to the reason 'No Cars Available'. \n",
    "\n",
    "Need to understand the reasons why there is a high percentage of cancellation of trips from city to airport by the Driver partner. There could be many reasons like duration of time to commute to the airport, hour of the day when the request was placed, toll-plaza charges which the driver incurs , less fare being charged etc."
   ]
  },
  {
   "cell_type": "markdown",
   "metadata": {},
   "source": [
    "##### 3.1.2.3 Anaysis of Trip Completion Status based on 'Pickup_point'"
   ]
  },
  {
   "cell_type": "code",
   "execution_count": 33,
   "metadata": {},
   "outputs": [
    {
     "data": {
      "image/png": "[encoded data removed]",
      "text/plain": [
       "<Figure size 648x288 with 1 Axes>"
      ]
     },
     "metadata": {},
     "output_type": "display_data"
    },
    {
     "data": {
      "image/png": "[encoded data removed]",
      "text/plain": [
       "<Figure size 648x288 with 2 Axes>"
      ]
     },
     "metadata": {},
     "output_type": "display_data"
    }
   ],
   "source": [
    "# A bar chart showing the split-up of number of trips by completion status for each of the pickup locations\n",
    "ax3123 = Data_Uber.pivot_table(index=\"Pickup_point\",columns=\"Trip_Completed\",values=\"Request_id\",\n",
    "                           aggfunc=\"count\").plot(kind=\"bar\",rot=0,figsize=(9,4),sort_columns=True)\n",
    "\n",
    "for p in ax3123.patches:\n",
    "    x,y = p.get_xy()\n",
    "    ax3123.annotate('{}'.format(p.get_height()), (x+.1,p.get_height()/2))\n",
    "plt.xlabel(\"Trip Pickup_point (Location) \")\n",
    "plt.ylabel(\"Number of Requests\")\n",
    "plt.tight_layout()\n",
    "plt.show()\n",
    "\n",
    "\n",
    "# A pie chart showing the split-up of pecentage of trips by completion status for each of the pickup locations\n",
    "plt.figure(figsize=(9,4))\n",
    "for i,k in enumerate(sorted(Data_Uber.Pickup_point.unique())):\n",
    "    plt.subplot(2,2,i+1)\n",
    "    plt.pie(x=Data_Uber[Data_Uber.Pickup_point == k].groupby(['Trip_Completed','Pickup_point'])['Request_id'].count(),\n",
    "        autopct='%1.f%%',labels=['No','Yes'])\n",
    "    plt.xlabel(k)\n",
    "    \n",
    "plt.tight_layout()\n",
    "plt.show()"
   ]
  },
  {
   "cell_type": "markdown",
   "metadata": {},
   "source": [
    "There is __no significant difference__ in the __Trip Non-Completion__ percentage w.r.t to the location of the request, with __59%__ of __Airport-to-City__ requests are not getting completed and __57%__ of __City-to-Airport__ requests are not getting completed.\n"
   ]
  },
  {
   "cell_type": "markdown",
   "metadata": {},
   "source": [
    "##### 3.1.2.4 Anaysis of Trip Not-Completed based on 'Pickup_point'\n",
    "\n",
    "Identify the reason for Trip Non-completion based on the pickup location"
   ]
  },
  {
   "cell_type": "code",
   "execution_count": 34,
   "metadata": {},
   "outputs": [
    {
     "data": {
      "image/png": "[encoded data removed]",
      "text/plain": [
       "<Figure size 864x216 with 2 Axes>"
      ]
     },
     "metadata": {},
     "output_type": "display_data"
    },
    {
     "data": {
      "image/png": "[encoded data removed]",
      "text/plain": [
       "<Figure size 720x216 with 2 Axes>"
      ]
     },
     "metadata": {},
     "output_type": "display_data"
    }
   ],
   "source": [
    "# Subplots using bar chart segmented by reason for trips not completed across pickup locations\n",
    "plt.figure(figsize=(12,3))\n",
    "plt.subplot(1,2,1)\n",
    "Data_Uber[(Data_Uber.Status != \"Trip Completed\") & (Data_Uber.Pickup_point == \"City\")].\\\n",
    "groupby(['Status','Pickup_point'])['Request_id'].count().\\\n",
    "plot(kind=\"bar\",rot=0,subplots=True)#,xticks=(range(2),['Cancelled','No Cars Available']))\n",
    "plt.xticks(range(2),['Cancelled','No Cars Available'])\n",
    "plt.xlabel(\"City\")\n",
    "plt.title(\"\")\n",
    "\n",
    "\n",
    "plt.subplot(1,2,2)\n",
    "Data_Uber[(Data_Uber.Status != \"Trip Completed\") & (Data_Uber.Pickup_point == \"Airport\")].\\\n",
    "groupby(['Status','Pickup_point'])['Request_id'].count().\\\n",
    "plot(kind=\"bar\",rot=0,subplots=True)#,xticks=['Cancelled','No Cars Available'])\n",
    "plt.xticks(range(2),['Cancelled','No Cars Available']) \n",
    "plt.xlabel(\"Airport\")\n",
    "plt.title(\"\")\n",
    "\n",
    "# Subplots using pie chart segmented by reason for trips not completed across pickup locations\n",
    "plt.figure(figsize=(10,3))\n",
    "plt.subplot(1,2,1)\n",
    "plt.pie(x=Data_Uber[(Data_Uber.Status != \"Trip Completed\") & (Data_Uber.Pickup_point == \"City\")].\\\n",
    "        groupby(['Status','Pickup_point'])['Request_id'].count(),\n",
    "        autopct='%1.f%%',labels=['No','Yes'])\n",
    "plt.xlabel(\"City\")\n",
    "\n",
    "plt.subplot(1,2,2)\n",
    "plt.pie(x=Data_Uber[(Data_Uber.Status != \"Trip Completed\") & (Data_Uber.Pickup_point == \"Airport\")].\\\n",
    "        groupby(['Status','Pickup_point'])['Request_id'].count(),\n",
    "        autopct='%1.f%%',labels=['No','Yes'])\n",
    "plt.xlabel(\"Airport\")\n",
    "\n",
    "plt.tight_layout()\n",
    "plt.show()"
   ]
  },
  {
   "cell_type": "markdown",
   "metadata": {},
   "source": [
    "For __City-to-Airport__ requests, trips not completed due to reason __'Cancelled' ( 53% )__ ( Driver Partner cancelled the trip)  is marginally higher than the trips not completed due to reason __'No Cars Available' ( 47% )__. Both the reasons contribute almost equally for the requests not getting fulfilled. \n",
    "\n",
    "For __Airport-to-City__ requests, trips not completed due to reason __'No Cars Available' ( 90% )__ is siginificantly higher than the trips not completed due to reason __'Cancelled' at ( 10% )__. \n",
    "\n",
    "__Unavaiibility of Cars__  is the major reason for requests not getting fulfilled for __Airport-to-City__ requests.\n",
    "\n",
    "---\n",
    "\n",
    "\n",
    "__Major Problem-Areas identified from analysis based on 'Pickup_point' column:__\n",
    "\n",
    "1. 84% cancellation by Driver Partner for __City-to-Airport__ trip requests. __Many driver partners are not willing to take a trip from __City-to-Airport__.\n",
    "\n",
    "\n",
    "2. 65% supply crunch for Airport-to-City trip requests and 35% supply crunch for City-to-Airport trip requests. __There is an overall supply crunch as compared to the demand for City-to-Airport/Airport-to-City trip requests. However, the supply crunch is severe for Airport-to-City trip requests__.\n",
    "\n",
    "---\n",
    "---"
   ]
  },
  {
   "cell_type": "markdown",
   "metadata": {},
   "source": [
    "#### 3.1.3 Anaysis of requests based on 'Time_Slots'\n",
    "\n",
    "##### 3.1.3.1 Anaysis of requests based only on 'Time_Slots'"
   ]
  },
  {
   "cell_type": "code",
   "execution_count": 35,
   "metadata": {},
   "outputs": [
    {
     "data": {
      "text/plain": [
       "Time_Slot\n",
       "Morning(5AM-9AM)       2103\n",
       "Mid-day(10AM-4PM)      1224\n",
       "Evening(5PM-9PM)       2342\n",
       "Night(10PM-12AM)        597\n",
       "Late-Night(1AM-4AM)     479\n",
       "Name: Request_id, dtype: int64"
      ]
     },
     "execution_count": 35,
     "metadata": {},
     "output_type": "execute_result"
    }
   ],
   "source": [
    "Data_Uber.groupby('Time_Slot')['Request_id'].count()"
   ]
  },
  {
   "cell_type": "code",
   "execution_count": 36,
   "metadata": {},
   "outputs": [
    {
     "data": {
      "image/png": "[encoded data removed]",
      "text/plain": [
       "<Figure size 1080x288 with 2 Axes>"
      ]
     },
     "metadata": {},
     "output_type": "display_data"
    }
   ],
   "source": [
    "# Bar plot\n",
    "plt.figure(figsize=(15,4))\n",
    "plt.subplot(1,2,1)\n",
    "ax316 = sns.barplot(data=Data_Uber,x='Time_Slot',y='Request_id',estimator=len)\n",
    "\n",
    "for p in ax316.patches:\n",
    "    x,y = p.get_xy()\n",
    "    ax316.annotate('{}'.format(p.get_height()), (x+.3,p.get_height()-100))\n",
    "plt.xlabel(\"Time Slot\")\n",
    "plt.ylabel(\"Number of Requests\")\n",
    "\n",
    "# Pie plot\n",
    "plt.subplot(1,2,2)\n",
    "plt.pie(x=Data_Uber.groupby('Time_Slot')['Request_id'].count(),\n",
    "        autopct='%1.f%%',\n",
    "        labels=['Morning','Mid-day','Evening','Night','Late-Night'],\n",
    "        counterclock=False,startangle=90)\n",
    "plt.xlabel(\"% Requests by Time-Slot\")\n",
    "\n",
    "\n",
    "plt.tight_layout()\n",
    "plt.show()"
   ]
  },
  {
   "cell_type": "markdown",
   "metadata": {},
   "source": [
    "As noticed, there is significantly high-volume of requests during __'Morning(5AM-9AM)'__ and __'Evening(5PM-9PM)'__( also discovered in earlier visualizations for determining the Time-Slots)."
   ]
  },
  {
   "cell_type": "markdown",
   "metadata": {},
   "source": [
    "##### 3.1.3.2 Anaysis of requests from 'Pickup_point' spread across the various 'Time_Slot's"
   ]
  },
  {
   "cell_type": "code",
   "execution_count": 37,
   "metadata": {},
   "outputs": [
    {
     "data": {
      "text/html": [
       "<div>\n",
       "<style scoped>\n",
       "    .dataframe tbody tr th:only-of-type {\n",
       "        vertical-align: middle;\n",
       "    }\n",
       "\n",
       "    .dataframe tbody tr th {\n",
       "        vertical-align: top;\n",
       "    }\n",
       "\n",
       "    .dataframe thead th {\n",
       "        text-align: right;\n",
       "    }\n",
       "</style>\n",
       "<table border=\"1\" class=\"dataframe\">\n",
       "  <thead>\n",
       "    <tr style=\"text-align: right;\">\n",
       "      <th>Pickup_point</th>\n",
       "      <th>Airport</th>\n",
       "      <th>City</th>\n",
       "    </tr>\n",
       "    <tr>\n",
       "      <th>Time_Slot</th>\n",
       "      <th></th>\n",
       "      <th></th>\n",
       "    </tr>\n",
       "  </thead>\n",
       "  <tbody>\n",
       "    <tr>\n",
       "      <th>Morning(5AM-9AM)</th>\n",
       "      <td>426</td>\n",
       "      <td>1677</td>\n",
       "    </tr>\n",
       "    <tr>\n",
       "      <th>Mid-day(10AM-4PM)</th>\n",
       "      <td>478</td>\n",
       "      <td>746</td>\n",
       "    </tr>\n",
       "    <tr>\n",
       "      <th>Evening(5PM-9PM)</th>\n",
       "      <td>1800</td>\n",
       "      <td>542</td>\n",
       "    </tr>\n",
       "    <tr>\n",
       "      <th>Night(10PM-12AM)</th>\n",
       "      <td>334</td>\n",
       "      <td>263</td>\n",
       "    </tr>\n",
       "    <tr>\n",
       "      <th>Late-Night(1AM-4AM)</th>\n",
       "      <td>200</td>\n",
       "      <td>279</td>\n",
       "    </tr>\n",
       "  </tbody>\n",
       "</table>\n",
       "</div>"
      ],
      "text/plain": [
       "Pickup_point         Airport  City\n",
       "Time_Slot                         \n",
       "Morning(5AM-9AM)         426  1677\n",
       "Mid-day(10AM-4PM)        478   746\n",
       "Evening(5PM-9PM)        1800   542\n",
       "Night(10PM-12AM)         334   263\n",
       "Late-Night(1AM-4AM)      200   279"
      ]
     },
     "execution_count": 37,
     "metadata": {},
     "output_type": "execute_result"
    }
   ],
   "source": [
    "Data_Uber.sort_values(by=\"Time_Slot\").pivot_table(index=\"Time_Slot\",columns=\"Pickup_point\",values=\"Request_id\",aggfunc=\"count\")"
   ]
  },
  {
   "cell_type": "code",
   "execution_count": 38,
   "metadata": {},
   "outputs": [
    {
     "data": {
      "image/png": "[encoded data removed]",
      "text/plain": [
       "<Figure size 864x360 with 1 Axes>"
      ]
     },
     "metadata": {},
     "output_type": "display_data"
    },
    {
     "data": {
      "image/png": "[encoded data removed]",
      "text/plain": [
       "<Figure size 864x360 with 5 Axes>"
      ]
     },
     "metadata": {},
     "output_type": "display_data"
    }
   ],
   "source": [
    "# Bar plot\n",
    "ax3132 = Data_Uber.sort_values(by=\"Time_Slot\").\\\n",
    "pivot_table(index=\"Time_Slot\",columns=\"Pickup_point\",values=\"Request_id\",aggfunc=\"count\").\\\n",
    "plot(kind=\"bar\",rot=0,figsize=(12,5))\n",
    "\n",
    "for p in ax3132.patches:\n",
    "    x,y = p.get_xy()\n",
    "    ax3132.annotate('{}'.format(p.get_height()), (x+.05,p.get_height()/2))\n",
    "plt.xlabel(\"Time Slot\")\n",
    "plt.ylabel(\"Number of Requests\")\n",
    "\n",
    "plt.tight_layout()\n",
    "plt.show()\n",
    "\n",
    "\n",
    "#Pie plot\n",
    "plt.figure(figsize=(12,5))\n",
    "for i,k in enumerate(Data_Uber.Time_Slot.values.categories):\n",
    "    plt.subplot(2,5,i+1)\n",
    "    plt.pie(x=Data_Uber[Data_Uber.Time_Slot == k].groupby(['Time_Slot','Pickup_point'])['Request_id'].count(),\n",
    "        autopct='%1.f%%',labels=['Airport','City'])\n",
    "    plt.xlabel(k)\n",
    "    \n",
    "plt.tight_layout()\n",
    "plt.show()"
   ]
  },
  {
   "cell_type": "markdown",
   "metadata": {},
   "source": [
    "From the above plots we notice that the requests from __City-to-Airport__ are the __highest__ during __'Morning(5AM-9AM)__ and the demand goes down as the day progresses.\n",
    "\n",
    "On the other hand, requests from __Airport-to-City__ show a __peak__ during __'Evening(5PM-9PM)'__ and are flat for rest of the day."
   ]
  },
  {
   "cell_type": "markdown",
   "metadata": {},
   "source": [
    "##### 3.1.3.3 Anaysis of 'Status' of the requests spread across the various 'Time_Slot's"
   ]
  },
  {
   "cell_type": "code",
   "execution_count": 39,
   "metadata": {},
   "outputs": [
    {
     "data": {
      "text/html": [
       "<div>\n",
       "<style scoped>\n",
       "    .dataframe tbody tr th:only-of-type {\n",
       "        vertical-align: middle;\n",
       "    }\n",
       "\n",
       "    .dataframe tbody tr th {\n",
       "        vertical-align: top;\n",
       "    }\n",
       "\n",
       "    .dataframe thead th {\n",
       "        text-align: right;\n",
       "    }\n",
       "</style>\n",
       "<table border=\"1\" class=\"dataframe\">\n",
       "  <thead>\n",
       "    <tr style=\"text-align: right;\">\n",
       "      <th>Status</th>\n",
       "      <th>Trip Completed</th>\n",
       "      <th>Cancelled</th>\n",
       "      <th>No Cars Available</th>\n",
       "    </tr>\n",
       "    <tr>\n",
       "      <th>Time_Slot</th>\n",
       "      <th></th>\n",
       "      <th></th>\n",
       "      <th></th>\n",
       "    </tr>\n",
       "  </thead>\n",
       "  <tbody>\n",
       "    <tr>\n",
       "      <th>Morning(5AM-9AM)</th>\n",
       "      <td>854</td>\n",
       "      <td>843</td>\n",
       "      <td>406</td>\n",
       "    </tr>\n",
       "    <tr>\n",
       "      <th>Mid-day(10AM-4PM)</th>\n",
       "      <td>722</td>\n",
       "      <td>168</td>\n",
       "      <td>334</td>\n",
       "    </tr>\n",
       "    <tr>\n",
       "      <th>Evening(5PM-9PM)</th>\n",
       "      <td>784</td>\n",
       "      <td>166</td>\n",
       "      <td>1392</td>\n",
       "    </tr>\n",
       "    <tr>\n",
       "      <th>Night(10PM-12AM)</th>\n",
       "      <td>297</td>\n",
       "      <td>25</td>\n",
       "      <td>275</td>\n",
       "    </tr>\n",
       "    <tr>\n",
       "      <th>Late-Night(1AM-4AM)</th>\n",
       "      <td>174</td>\n",
       "      <td>62</td>\n",
       "      <td>243</td>\n",
       "    </tr>\n",
       "  </tbody>\n",
       "</table>\n",
       "</div>"
      ],
      "text/plain": [
       "Status               Trip Completed  Cancelled  No Cars Available\n",
       "Time_Slot                                                        \n",
       "Morning(5AM-9AM)                854        843                406\n",
       "Mid-day(10AM-4PM)               722        168                334\n",
       "Evening(5PM-9PM)                784        166               1392\n",
       "Night(10PM-12AM)                297         25                275\n",
       "Late-Night(1AM-4AM)             174         62                243"
      ]
     },
     "execution_count": 39,
     "metadata": {},
     "output_type": "execute_result"
    }
   ],
   "source": [
    "Data_Uber.sort_values(by=\"Time_Slot\").\\\n",
    "pivot_table(index=\"Time_Slot\",columns=\"Status\",values=\"Request_id\",aggfunc=\"count\")\\\n",
    "[['Trip Completed','Cancelled','No Cars Available']]"
   ]
  },
  {
   "cell_type": "code",
   "execution_count": 40,
   "metadata": {},
   "outputs": [
    {
     "data": {
      "image/png": "[encoded data removed]",
      "text/plain": [
       "<Figure size 864x360 with 1 Axes>"
      ]
     },
     "metadata": {},
     "output_type": "display_data"
    }
   ],
   "source": [
    "# Pie plot\n",
    "ax3133 = Data_Uber.sort_values(by=\"Time_Slot\").\\\n",
    "pivot_table(index=\"Time_Slot\",columns=\"Status\",values=\"Request_id\",aggfunc=\"count\")\\\n",
    "[['Trip Completed','Cancelled','No Cars Available']].\\\n",
    "plot(kind=\"bar\",rot=0,figsize=(12,5),color=['tab:green','tab:blue','tab:orange'])\n",
    "\n",
    "for p in ax3133.patches:\n",
    "    x,y = p.get_xy()\n",
    "    #x += 0.2\n",
    "    ax3133.annotate('{}'.format(p.get_height()), (x+0.025,p.get_height()/2))\n",
    "plt.xlabel(\"Time Slot\")\n",
    "plt.ylabel(\"Number of Requests\")\n",
    "\n",
    "plt.tight_layout()\n",
    "plt.show()"
   ]
  },
  {
   "cell_type": "markdown",
   "metadata": {},
   "source": [
    "The number of __'Trips Completed'__ decreases as the hours of the day proceed from Morning to Late-Night.\n",
    "\n",
    "The number of trips not completed due to __'Cancelled'__ status decreases as the day proceeds from morning to night. __Maximum Trips cancelled during 'Morning' time-slot__.\n",
    "\n",
    "The number of trips not completed due to __'No Cars Available'__ status is __highest__ during the __'Evening'__ time-slot and is flat for rest of the day."
   ]
  },
  {
   "cell_type": "markdown",
   "metadata": {},
   "source": [
    "##### 3.1.3.4 Anaysis of the completion status of requests spread across the various 'Time_Slot's"
   ]
  },
  {
   "cell_type": "code",
   "execution_count": 41,
   "metadata": {},
   "outputs": [
    {
     "data": {
      "text/html": [
       "<div>\n",
       "<style scoped>\n",
       "    .dataframe tbody tr th:only-of-type {\n",
       "        vertical-align: middle;\n",
       "    }\n",
       "\n",
       "    .dataframe tbody tr th {\n",
       "        vertical-align: top;\n",
       "    }\n",
       "\n",
       "    .dataframe thead th {\n",
       "        text-align: right;\n",
       "    }\n",
       "</style>\n",
       "<table border=\"1\" class=\"dataframe\">\n",
       "  <thead>\n",
       "    <tr style=\"text-align: right;\">\n",
       "      <th>Trip_Completed</th>\n",
       "      <th>No</th>\n",
       "      <th>Yes</th>\n",
       "    </tr>\n",
       "    <tr>\n",
       "      <th>Time_Slot</th>\n",
       "      <th></th>\n",
       "      <th></th>\n",
       "    </tr>\n",
       "  </thead>\n",
       "  <tbody>\n",
       "    <tr>\n",
       "      <th>Morning(5AM-9AM)</th>\n",
       "      <td>1249</td>\n",
       "      <td>854</td>\n",
       "    </tr>\n",
       "    <tr>\n",
       "      <th>Mid-day(10AM-4PM)</th>\n",
       "      <td>502</td>\n",
       "      <td>722</td>\n",
       "    </tr>\n",
       "    <tr>\n",
       "      <th>Evening(5PM-9PM)</th>\n",
       "      <td>1558</td>\n",
       "      <td>784</td>\n",
       "    </tr>\n",
       "    <tr>\n",
       "      <th>Night(10PM-12AM)</th>\n",
       "      <td>300</td>\n",
       "      <td>297</td>\n",
       "    </tr>\n",
       "    <tr>\n",
       "      <th>Late-Night(1AM-4AM)</th>\n",
       "      <td>305</td>\n",
       "      <td>174</td>\n",
       "    </tr>\n",
       "  </tbody>\n",
       "</table>\n",
       "</div>"
      ],
      "text/plain": [
       "Trip_Completed         No  Yes\n",
       "Time_Slot                     \n",
       "Morning(5AM-9AM)     1249  854\n",
       "Mid-day(10AM-4PM)     502  722\n",
       "Evening(5PM-9PM)     1558  784\n",
       "Night(10PM-12AM)      300  297\n",
       "Late-Night(1AM-4AM)   305  174"
      ]
     },
     "execution_count": 41,
     "metadata": {},
     "output_type": "execute_result"
    }
   ],
   "source": [
    "Data_Uber.sort_values(by=\"Time_Slot\").\\\n",
    "pivot_table(index=\"Time_Slot\",columns=\"Trip_Completed\",values=\"Request_id\",aggfunc=\"count\")"
   ]
  },
  {
   "cell_type": "code",
   "execution_count": 42,
   "metadata": {},
   "outputs": [
    {
     "data": {
      "image/png": "[encoded data removed]",
      "text/plain": [
       "<Figure size 864x360 with 1 Axes>"
      ]
     },
     "metadata": {},
     "output_type": "display_data"
    },
    {
     "data": {
      "image/png": "[encoded data removed]",
      "text/plain": [
       "<Figure size 864x360 with 5 Axes>"
      ]
     },
     "metadata": {},
     "output_type": "display_data"
    }
   ],
   "source": [
    "# Bar plot\n",
    "ax3134 = Data_Uber.sort_values(by=\"Time_Slot\").\\\n",
    "pivot_table(index=\"Time_Slot\",columns=\"Trip_Completed\",values=\"Request_id\",aggfunc=\"count\").\\\n",
    "plot(kind=\"bar\",rot=0,figsize=(12,5),color=['tab:red','tab:green'])\n",
    "\n",
    "#[['Trip Completed','Cancelled','No Cars Available']].\\\n",
    "\n",
    "for p in ax3134.patches:\n",
    "    x,y = p.get_xy()\n",
    "    #x += 0.2\n",
    "    ax3134.annotate('{}'.format(p.get_height()), (x+0.025,p.get_height()/2))\n",
    "plt.xlabel(\"Time Slot\")\n",
    "plt.ylabel(\"Number of Requests\")\n",
    "\n",
    "plt.tight_layout()\n",
    "plt.show()\n",
    "\n",
    "# Pie plot\n",
    "plt.figure(figsize=(12,5))\n",
    "for i,k in enumerate(Data_Uber.Time_Slot.values.categories):\n",
    "    plt.subplot(2,5,i+1)\n",
    "    plt.pie(x=Data_Uber[Data_Uber.Time_Slot == k].groupby(['Time_Slot','Trip_Completed'])['Request_id'].count(),\n",
    "        autopct='%1.f%%',labels=['No','Yes'],colors=['tab:red','tab:green'])\n",
    "    plt.xlabel(k)\n",
    "    \n",
    "plt.tight_layout()\n",
    "plt.show()"
   ]
  },
  {
   "cell_type": "markdown",
   "metadata": {},
   "source": [
    "The time-slots where the 'Trip COmpletion' percentage is poor are :\n",
    "    1. Morning(5AM-9AM)\n",
    "    2. Evening(5PM-9PM)\n",
    "    3. Late-Night(1AM-4AM)\n",
    "    \n",
    "However, the volume of requests is significantly low during __'Late-Night(1AM-4AM)'__ as compared to the other two time-slots.\n",
    "\n",
    "The bottom-2 time-slots by trip completion percentage are:\n",
    "\n",
    "  __1. Morning(5AM-9AM) - 59%__\n",
    "    \n",
    "  __2. Evening(5PM-9PM) - 67%__\n",
    "    \n",
    "The next analysis would be to find the major reason for request not getting fulfilled in these bottom-2 time_slots."
   ]
  },
  {
   "cell_type": "markdown",
   "metadata": {},
   "source": [
    "##### 3.1.3.5 Anaysis of the Trips Not-Completed status spread across the various 'Time_Slot's"
   ]
  },
  {
   "cell_type": "code",
   "execution_count": 43,
   "metadata": {},
   "outputs": [
    {
     "data": {
      "text/html": [
       "<div>\n",
       "<style scoped>\n",
       "    .dataframe tbody tr th:only-of-type {\n",
       "        vertical-align: middle;\n",
       "    }\n",
       "\n",
       "    .dataframe tbody tr th {\n",
       "        vertical-align: top;\n",
       "    }\n",
       "\n",
       "    .dataframe thead th {\n",
       "        text-align: right;\n",
       "    }\n",
       "</style>\n",
       "<table border=\"1\" class=\"dataframe\">\n",
       "  <thead>\n",
       "    <tr style=\"text-align: right;\">\n",
       "      <th>Status</th>\n",
       "      <th>Cancelled</th>\n",
       "      <th>No Cars Available</th>\n",
       "    </tr>\n",
       "    <tr>\n",
       "      <th>Time_Slot</th>\n",
       "      <th></th>\n",
       "      <th></th>\n",
       "    </tr>\n",
       "  </thead>\n",
       "  <tbody>\n",
       "    <tr>\n",
       "      <th>Morning(5AM-9AM)</th>\n",
       "      <td>843</td>\n",
       "      <td>406</td>\n",
       "    </tr>\n",
       "    <tr>\n",
       "      <th>Mid-day(10AM-4PM)</th>\n",
       "      <td>168</td>\n",
       "      <td>334</td>\n",
       "    </tr>\n",
       "    <tr>\n",
       "      <th>Evening(5PM-9PM)</th>\n",
       "      <td>166</td>\n",
       "      <td>1392</td>\n",
       "    </tr>\n",
       "    <tr>\n",
       "      <th>Night(10PM-12AM)</th>\n",
       "      <td>25</td>\n",
       "      <td>275</td>\n",
       "    </tr>\n",
       "    <tr>\n",
       "      <th>Late-Night(1AM-4AM)</th>\n",
       "      <td>62</td>\n",
       "      <td>243</td>\n",
       "    </tr>\n",
       "  </tbody>\n",
       "</table>\n",
       "</div>"
      ],
      "text/plain": [
       "Status               Cancelled  No Cars Available\n",
       "Time_Slot                                        \n",
       "Morning(5AM-9AM)           843                406\n",
       "Mid-day(10AM-4PM)          168                334\n",
       "Evening(5PM-9PM)           166               1392\n",
       "Night(10PM-12AM)            25                275\n",
       "Late-Night(1AM-4AM)         62                243"
      ]
     },
     "execution_count": 43,
     "metadata": {},
     "output_type": "execute_result"
    }
   ],
   "source": [
    "Data_Uber[(Data_Uber.Status != 'Trip Completed')].groupby(['Time_Slot','Status'])['Request_id'].count().unstack()"
   ]
  },
  {
   "cell_type": "code",
   "execution_count": 44,
   "metadata": {},
   "outputs": [
    {
     "data": {
      "image/png": "[encoded data removed]",
      "text/plain": [
       "<Figure size 864x360 with 1 Axes>"
      ]
     },
     "metadata": {},
     "output_type": "display_data"
    },
    {
     "data": {
      "image/png": "[encoded data removed]",
      "text/plain": [
       "<Figure size 864x360 with 5 Axes>"
      ]
     },
     "metadata": {},
     "output_type": "display_data"
    }
   ],
   "source": [
    "# Bar plot\n",
    "ax3135 = Data_Uber[Data_Uber.Status != 'Trip Completed'].sort_values(by=\"Time_Slot\").\\\n",
    "pivot_table(index=\"Time_Slot\",columns=\"Status\",values=\"Request_id\",aggfunc=\"count\").\\\n",
    "plot(kind=\"bar\",rot=0,figsize=(12,5),color=['blue','orange'])\n",
    "\n",
    "for p in ax3135.patches:\n",
    "    x,y = p.get_xy()\n",
    "    #x += 0.2\n",
    "    ax3135.annotate('{}'.format(p.get_height()), (x+0.025,p.get_height()+2))\n",
    "plt.xlabel(\"Time Slot\")\n",
    "plt.ylabel(\"Number of Requests\")\n",
    "\n",
    "plt.tight_layout()\n",
    "plt.show()\n",
    "\n",
    "# Pie plot\n",
    "plt.figure(figsize=(12,5))\n",
    "for i,k in enumerate(Data_Uber.Time_Slot.values.categories):\n",
    "    plt.subplot(2,5,i+1)\n",
    "    plt.pie(x=Data_Uber[(Data_Uber.Time_Slot == k) & (Data_Uber.Status != 'Trip Completed')].\n",
    "            groupby(['Time_Slot','Status'])['Request_id'].count(),\n",
    "        autopct='%1.f%%',colors=['blue','orange'])\n",
    "    plt.xlabel(k)\n",
    "    \n",
    "plt.tight_layout()\n",
    "plt.show()"
   ]
  },
  {
   "cell_type": "markdown",
   "metadata": {},
   "source": [
    "In the __'Morning(5AM-9AM)'__' time-slot, the major reason for request not getting fulfilled is __'Cancelled'__ i.e., Driver partner cancelled the trip.\n",
    "\n",
    "In the __'Evening(5PM-9PM)'__' time-slot, the major reason for request not getting fulfilled is __'No Cars Available'__.\n",
    "\n",
    "---\n",
    "\n",
    "\n",
    "__Major Problem-Areas identified from analysis based on 'Time_Slot' column:__\n",
    "\n",
    "1. The __2 time-slots__ which have the __worst trip completion percentages__ are : __'Morning(5AM-9AM) 59%'__ and __'Evening(5PM-9PM) 67%'__, since these two time-slots also witness the highest volume of requests.\n",
    "\n",
    "\n",
    "2. During __'Morning(5AM-9AM)'__ time-slot, the __major reason__ for trip non-completion __( 67% )__ is __Cancelaltion by Driver Partner__. \n",
    "   During __'Evening(5PM-9PM)'__ time-slot, the __major reason__ for trip non-completion __( 89% )__ is __Unavailibility of Cars__. \n",
    "---"
   ]
  },
  {
   "cell_type": "markdown",
   "metadata": {},
   "source": [
    "### 3.1 SUMMARY : Most pressing issues faced by UBER\n",
    "\n",
    "1. 58% of trips are not completed i.e., __6 out of 10 trip requests are not completed__. Out of these, __4 trip requests are not completed due to unavailability of cars__ and __2 trip requests are not completed due to cancellation by Driver Partner__.\n",
    "\n",
    "2. The major reason for non-completion of trips is __'No Cars Available' ( 68% )__ , followed by __'Cancelled' ( 32% )__ requests . __Nearly 7 out 10 \"Trips Not-Completed\" are due to Cars not available.__\n",
    "\n",
    "3. The major reason __(84%)__ for non-completion of trips from __City-to-Airport__ is due to cancellation by Driver Partner. __Many driver partners are not willing to take a trip from __City-to-Airport__.\n",
    "\n",
    "4. 65% supply crunch for Airport-to-City trip requests and 35% supply crunch for City-to-Airport trip requests. __There is an overall supply crunch as compared to the demand for City-to-Airport/Airport-to-City trip requests. However, the supply crunch is severe for Airport-to-City trip requests__.\n",
    "\n",
    "5. The __2 time-slots__ which have the __worst trip completion percentages__ are : __'Morning(5AM-9AM) 59%'__ and __'Evening(5PM-9PM) 67%'__, since these two time-slots also witness the highest volume of requests.\n",
    "\n",
    "\n",
    "6. During __'Morning(5AM-9AM)'__ time-slot, the __major reason__ for trip non-completion __( 67% )__ is __Cancelaltion by Driver Partner__. \n",
    "   During __'Evening(5PM-9PM)'__ time-slot, the __major reason__ for trip non-completion __( 89% )__ is __Unavailibility of Cars__. \n",
    "\n",
    "---"
   ]
  },
  {
   "cell_type": "markdown",
   "metadata": {},
   "source": [
    "### 3.2 Supply-Demand Gap Analysis\n",
    "---\n",
    "\n",
    "__Demand__ is the total number of requests received by UBER ( in this case from City-to-Airport and Airport-to-City only). It is is a summation of the 'Status's : 'Trip Completed', 'Cancelled' and 'No Cars Available'.\n",
    "\n",
    "__Demand = (Number of 'Trip Completed') + (Number of 'Cancelled') + (Number of 'No Cars Available')__\n",
    "\n",
    "---\n",
    "\n",
    "__Supply__ is the total number of requests that were successfully completed by UBER. It is the number of requests with status as 'Trip Completed'.\n",
    "\n",
    "__Supply = (Number of 'Trip Completed')\n",
    "\n",
    "---\n",
    "\n",
    "__Supply_Demand Gap__ is the number of requests that were not fulfilled by UBER. It is the difference between \"the total number of requests\" minus \"the number of requests that were completed\". In other words it is the difference between __Demand__ and __Supply__. It can also be looked at as  __'Cancelled' plus 'No Cars Available'__ requests.\n",
    "\n",
    "__Supply_Demand_Gap = Demand - Supply__\n",
    "\n",
    "__ OR __\n",
    "\n",
    "__ Supply_Demand_Gap = (Number of 'Cancelled') + (Number of 'No Cars Available')__\n",
    "\n",
    "---"
   ]
  },
  {
   "cell_type": "markdown",
   "metadata": {},
   "source": [
    "#### 3.2.1 Time slots when the highest gap exists"
   ]
  },
  {
   "cell_type": "code",
   "execution_count": 45,
   "metadata": {},
   "outputs": [
    {
     "data": {
      "text/html": [
       "<div>\n",
       "<style scoped>\n",
       "    .dataframe tbody tr th:only-of-type {\n",
       "        vertical-align: middle;\n",
       "    }\n",
       "\n",
       "    .dataframe tbody tr th {\n",
       "        vertical-align: top;\n",
       "    }\n",
       "\n",
       "    .dataframe thead th {\n",
       "        text-align: right;\n",
       "    }\n",
       "</style>\n",
       "<table border=\"1\" class=\"dataframe\">\n",
       "  <thead>\n",
       "    <tr style=\"text-align: right;\">\n",
       "      <th>Time_Slot</th>\n",
       "      <th>Morning(5AM-9AM)</th>\n",
       "      <th>Mid-day(10AM-4PM)</th>\n",
       "      <th>Evening(5PM-9PM)</th>\n",
       "      <th>Night(10PM-12AM)</th>\n",
       "      <th>Late-Night(1AM-4AM)</th>\n",
       "    </tr>\n",
       "  </thead>\n",
       "  <tbody>\n",
       "    <tr>\n",
       "      <th>Supply_Demand_Gap</th>\n",
       "      <td>1249</td>\n",
       "      <td>502</td>\n",
       "      <td>1558</td>\n",
       "      <td>300</td>\n",
       "      <td>305</td>\n",
       "    </tr>\n",
       "  </tbody>\n",
       "</table>\n",
       "</div>"
      ],
      "text/plain": [
       "Time_Slot          Morning(5AM-9AM)  Mid-day(10AM-4PM)  Evening(5PM-9PM)  \\\n",
       "Supply_Demand_Gap              1249                502              1558   \n",
       "\n",
       "Time_Slot          Night(10PM-12AM)  Late-Night(1AM-4AM)  \n",
       "Supply_Demand_Gap               300                  305  "
      ]
     },
     "execution_count": 45,
     "metadata": {},
     "output_type": "execute_result"
    }
   ],
   "source": [
    "Data_Uber[Data_Uber.Status != 'Trip Completed'].\\\n",
    "groupby('Time_Slot')['Request_id'].count().to_frame().rename(columns={'Request_id' : 'Supply_Demand_Gap'}).T"
   ]
  },
  {
   "cell_type": "markdown",
   "metadata": {},
   "source": [
    "__'Time_Slot'__s with __TOP-2 Supply_Demand_Gap__ are :\n",
    "\n",
    "1. __Evening(5PM-9PM)__ with 1558 unfulfilled requests.\n",
    "\n",
    "2. __Morning(5AM-9AM)__ with 1249 unfulfilled requests."
   ]
  },
  {
   "cell_type": "code",
   "execution_count": 46,
   "metadata": {},
   "outputs": [
    {
     "data": {
      "image/png": "[encoded data removed]",
      "text/plain": [
       "<Figure size 864x360 with 1 Axes>"
      ]
     },
     "metadata": {},
     "output_type": "display_data"
    }
   ],
   "source": [
    "ax321 = Data_Uber[Data_Uber.Status != 'Trip Completed'].\\\n",
    "groupby('Time_Slot')['Request_id'].count().to_frame().rename(columns={'Request_id' : 'Supply_Demand_Gap'}).\\\n",
    "plot(kind='bar',rot=0,figsize=(12,5),color='tab:red')\n",
    "\n",
    "for p in ax321.patches:\n",
    "    x,y = p.get_xy()\n",
    "    ax321.annotate('{}'.format(p.get_height()), (x+.15,p.get_height()+20))\n",
    "plt.xlabel(\"Time Slot\")\n",
    "plt.ylabel(\"Number of Requests\")\n",
    "\n",
    "plt.tight_layout()\n",
    "plt.show()"
   ]
  },
  {
   "cell_type": "markdown",
   "metadata": {},
   "source": [
    "#### 3.2.2 Request type (city-airport or airport-city) in time-slots identified with severe Supply_Demand_Gap"
   ]
  },
  {
   "cell_type": "code",
   "execution_count": 47,
   "metadata": {},
   "outputs": [
    {
     "data": {
      "text/html": [
       "<div>\n",
       "<style scoped>\n",
       "    .dataframe tbody tr th:only-of-type {\n",
       "        vertical-align: middle;\n",
       "    }\n",
       "\n",
       "    .dataframe tbody tr th {\n",
       "        vertical-align: top;\n",
       "    }\n",
       "\n",
       "    .dataframe thead th {\n",
       "        text-align: right;\n",
       "    }\n",
       "</style>\n",
       "<table border=\"1\" class=\"dataframe\">\n",
       "  <thead>\n",
       "    <tr style=\"text-align: right;\">\n",
       "      <th>Pickup_point</th>\n",
       "      <th>Airport</th>\n",
       "      <th>City</th>\n",
       "    </tr>\n",
       "    <tr>\n",
       "      <th>Time_Slot</th>\n",
       "      <th></th>\n",
       "      <th></th>\n",
       "    </tr>\n",
       "  </thead>\n",
       "  <tbody>\n",
       "    <tr>\n",
       "      <th>Morning(5AM-9AM)</th>\n",
       "      <td>44</td>\n",
       "      <td>1205</td>\n",
       "    </tr>\n",
       "    <tr>\n",
       "      <th>Mid-day(10AM-4PM)</th>\n",
       "      <td>151</td>\n",
       "      <td>351</td>\n",
       "    </tr>\n",
       "    <tr>\n",
       "      <th>Evening(5PM-9PM)</th>\n",
       "      <td>1427</td>\n",
       "      <td>131</td>\n",
       "    </tr>\n",
       "    <tr>\n",
       "      <th>Night(10PM-12AM)</th>\n",
       "      <td>169</td>\n",
       "      <td>131</td>\n",
       "    </tr>\n",
       "    <tr>\n",
       "      <th>Late-Night(1AM-4AM)</th>\n",
       "      <td>120</td>\n",
       "      <td>185</td>\n",
       "    </tr>\n",
       "  </tbody>\n",
       "</table>\n",
       "</div>"
      ],
      "text/plain": [
       "Pickup_point         Airport  City\n",
       "Time_Slot                         \n",
       "Morning(5AM-9AM)          44  1205\n",
       "Mid-day(10AM-4PM)        151   351\n",
       "Evening(5PM-9PM)        1427   131\n",
       "Night(10PM-12AM)         169   131\n",
       "Late-Night(1AM-4AM)      120   185"
      ]
     },
     "execution_count": 47,
     "metadata": {},
     "output_type": "execute_result"
    }
   ],
   "source": [
    "Data_Uber[Data_Uber.Status != 'Trip Completed'].\\\n",
    "groupby(['Time_Slot','Pickup_point'])['Request_id'].count().\\\n",
    "unstack()"
   ]
  },
  {
   "cell_type": "markdown",
   "metadata": {},
   "source": [
    "__RequestType (\"Pickup_point') where Supply_Demand_Gap is severe__ :\n",
    "\n",
    "1. __Evening(5PM-9PM)__ : 1427 __Airport-to-City__ requests of the total 1558 unfulfilled requests.\n",
    "\n",
    "\n",
    "2. __Morning(5AM-9AM)__ : 1205 __City-to-Airport__ requests of the total 1249 unfulfilled requests."
   ]
  },
  {
   "cell_type": "code",
   "execution_count": 49,
   "metadata": {},
   "outputs": [
    {
     "data": {
      "image/png": "[encoded data removed]",
      "text/plain": [
       "<Figure size 864x576 with 1 Axes>"
      ]
     },
     "metadata": {},
     "output_type": "display_data"
    }
   ],
   "source": [
    "ax322 = Data_Uber[Data_Uber.Status != 'Trip Completed'].\\\n",
    "groupby(['Time_Slot','Pickup_point'])['Request_id'].count().unstack().\\\n",
    "plot(kind=\"bar\",stacked=True,figsize=(12,8),rot=0,color=['tab:red','tab:blue'])\n",
    "\n",
    "for p in ax322.patches:\n",
    "    h = p.get_height()\n",
    "    x,y = p.get_xy()\n",
    "    if y != 0:\n",
    "        total = int(y + h)\n",
    "        ax322.annotate('{}'.format(total), (x+.25,total+5))\n",
    "    x  += .25\n",
    "    y =  ( h / 2 ) +  (y - 5 )\n",
    "    p.set_width(0.8)\n",
    "    ax322.annotate('{}'.format(p.get_height()), (x,y))\n",
    "    \n",
    "plt.tight_layout()\n",
    "plt.show() "
   ]
  },
  {
   "cell_type": "markdown",
   "metadata": {},
   "source": [
    "### END ###"
   ]
  },
  {
   "cell_type": "markdown",
   "metadata": {},
   "source": [
    "---"
   ]
  }
 ],
 "metadata": {
  "kernelspec": {
   "display_name": "Python 3",
   "language": "python",
   "name": "python3"
  },
  "language_info": {
   "codemirror_mode": {
    "name": "ipython",
    "version": 3
   },
   "file_extension": ".py",
   "mimetype": "text/x-python",
   "name": "python",
   "nbconvert_exporter": "python",
   "pygments_lexer": "ipython3",
   "version": "3.6.5"
  }
 },
 "nbformat": 4,
 "nbformat_minor": 2
}
